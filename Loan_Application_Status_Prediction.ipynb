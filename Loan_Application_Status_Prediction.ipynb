{
  "nbformat": 4,
  "nbformat_minor": 0,
  "metadata": {
    "kernelspec": {
      "display_name": "Python 3",
      "language": "python",
      "name": "python3"
    },
    "language_info": {
      "codemirror_mode": {
        "name": "ipython",
        "version": 3
      },
      "file_extension": ".py",
      "mimetype": "text/x-python",
      "name": "python",
      "nbconvert_exporter": "python",
      "pygments_lexer": "ipython3",
      "version": "3.8.5"
    },
    "colab": {
      "name": "Loan Application Status Prediction.ipynb",
      "provenance": [],
      "include_colab_link": true
    }
  },
  "cells": [
    {
      "cell_type": "markdown",
      "metadata": {
        "id": "view-in-github",
        "colab_type": "text"
      },
      "source": [
        "<a href=\"https://colab.research.google.com/github/HarshalPawar88/Evaluation-Projects/blob/main/Loan_Application_Status_Prediction.ipynb\" target=\"_parent\"><img src=\"https://colab.research.google.com/assets/colab-badge.svg\" alt=\"Open In Colab\"/></a>"
      ]
    },
    {
      "cell_type": "markdown",
      "metadata": {
        "id": "zIj0pMoHV4k8"
      },
      "source": [
        "# <font color=\"red\">Poject title: \"Loan Status Prediction Model\""
      ]
    },
    {
      "cell_type": "markdown",
      "metadata": {
        "id": "_Nk8BXlDV4lG"
      },
      "source": [
        "Problem Statement:\n",
        "This dataset includes details of applicants who have applied for loan. The dataset includes details like credit history, loan amount, their income, dependents etc. \n",
        "\n",
        "Independent Variables:\n",
        "\n",
        "- Loan_ID\n",
        "\n",
        "- Gender\n",
        "\n",
        "- Married\n",
        "\n",
        "- Dependents\n",
        "\n",
        "- Education\n",
        "\n",
        "- Self_Employed\n",
        "\n",
        "- ApplicantIncome\n",
        "\n",
        "- CoapplicantIncome\n",
        "\n",
        "- Loan_Amount\n",
        "\n",
        "- Loan_Amount_Term\n",
        "\n",
        "- Credit History\n",
        "\n",
        "- Property_Area\n",
        "\n",
        "Dependent Variable (Target Variable):\n",
        "\n",
        "- Loan_Status\n",
        "\n",
        "You have to build a model that can predict whether the loan of the applicant will be approved or not on the basis of the details provided in the dataset. \n",
        "\n",
        "Note: The link of the dataset is below. \n"
      ]
    },
    {
      "cell_type": "markdown",
      "metadata": {
        "id": "VM8YzBdyV4lH"
      },
      "source": [
        "### <font color=\"blue\">Import some important libraries"
      ]
    },
    {
      "cell_type": "code",
      "metadata": {
        "id": "as1r78LZV4lI"
      },
      "source": [
        "import os\n",
        "import numpy as np\n",
        "import pandas as pd\n",
        "import matplotlib.pyplot as plt\n",
        "%matplotlib inline\n",
        "from sklearn import linear_model\n",
        "import statsmodels.api as sm\n",
        "from sklearn.metrics import mean_squared_error\n",
        "\n",
        "# import libraries for metrics and reporting\n",
        "from sklearn.metrics import confusion_matrix\n",
        "from sklearn.metrics import classification_report\n",
        "from sklearn.metrics import accuracy_score\n",
        "from sklearn.metrics import precision_score\n",
        "from sklearn.metrics import recall_score\n",
        "from sklearn.metrics import f1_score\n",
        "from sklearn import metrics\n",
        "pd.set_option(\"display.max_columns\", None)\n",
        "pd.set_option(\"display.max_rows\", None)\n",
        "\n",
        "import seaborn as sns\n",
        "import re\n",
        "plt.rcParams['figure.figsize']=12,8\n",
        "sns.set(rc={'figure.figsize':(12,8)})\n"
      ],
      "execution_count": 2,
      "outputs": []
    },
    {
      "cell_type": "markdown",
      "metadata": {
        "id": "zp2h6L_9V4lK"
      },
      "source": [
        "<font color='blue'>**Importing Loan Status data set**"
      ]
    },
    {
      "cell_type": "code",
      "metadata": {
        "colab": {
          "base_uri": "https://localhost:8080/",
          "height": 408
        },
        "id": "myBsrPdnV4lL",
        "outputId": "a2ed8a7d-18bf-4a88-a2cc-07546f5b8a3d"
      },
      "source": [
        "data_loan=pd.read_csv(\"https://raw.githubusercontent.com/dsrscientist/DSData/master/loan_prediction.csv\")\n",
        "data_loan"
      ],
      "execution_count": 3,
      "outputs": [
        {
          "output_type": "execute_result",
          "data": {
            "text/html": [
              "<div>\n",
              "<style scoped>\n",
              "    .dataframe tbody tr th:only-of-type {\n",
              "        vertical-align: middle;\n",
              "    }\n",
              "\n",
              "    .dataframe tbody tr th {\n",
              "        vertical-align: top;\n",
              "    }\n",
              "\n",
              "    .dataframe thead th {\n",
              "        text-align: right;\n",
              "    }\n",
              "</style>\n",
              "<table border=\"1\" class=\"dataframe\">\n",
              "  <thead>\n",
              "    <tr style=\"text-align: right;\">\n",
              "      <th></th>\n",
              "      <th>Loan_ID</th>\n",
              "      <th>Gender</th>\n",
              "      <th>Married</th>\n",
              "      <th>Dependents</th>\n",
              "      <th>Education</th>\n",
              "      <th>Self_Employed</th>\n",
              "      <th>ApplicantIncome</th>\n",
              "      <th>CoapplicantIncome</th>\n",
              "      <th>LoanAmount</th>\n",
              "      <th>Loan_Amount_Term</th>\n",
              "      <th>Credit_History</th>\n",
              "      <th>Property_Area</th>\n",
              "      <th>Loan_Status</th>\n",
              "    </tr>\n",
              "  </thead>\n",
              "  <tbody>\n",
              "    <tr>\n",
              "      <th>0</th>\n",
              "      <td>LP001002</td>\n",
              "      <td>Male</td>\n",
              "      <td>No</td>\n",
              "      <td>0</td>\n",
              "      <td>Graduate</td>\n",
              "      <td>No</td>\n",
              "      <td>5849</td>\n",
              "      <td>0.0</td>\n",
              "      <td>NaN</td>\n",
              "      <td>360.0</td>\n",
              "      <td>1.0</td>\n",
              "      <td>Urban</td>\n",
              "      <td>Y</td>\n",
              "    </tr>\n",
              "    <tr>\n",
              "      <th>1</th>\n",
              "      <td>LP001003</td>\n",
              "      <td>Male</td>\n",
              "      <td>Yes</td>\n",
              "      <td>1</td>\n",
              "      <td>Graduate</td>\n",
              "      <td>No</td>\n",
              "      <td>4583</td>\n",
              "      <td>1508.0</td>\n",
              "      <td>128.0</td>\n",
              "      <td>360.0</td>\n",
              "      <td>1.0</td>\n",
              "      <td>Rural</td>\n",
              "      <td>N</td>\n",
              "    </tr>\n",
              "    <tr>\n",
              "      <th>2</th>\n",
              "      <td>LP001005</td>\n",
              "      <td>Male</td>\n",
              "      <td>Yes</td>\n",
              "      <td>0</td>\n",
              "      <td>Graduate</td>\n",
              "      <td>Yes</td>\n",
              "      <td>3000</td>\n",
              "      <td>0.0</td>\n",
              "      <td>66.0</td>\n",
              "      <td>360.0</td>\n",
              "      <td>1.0</td>\n",
              "      <td>Urban</td>\n",
              "      <td>Y</td>\n",
              "    </tr>\n",
              "    <tr>\n",
              "      <th>3</th>\n",
              "      <td>LP001006</td>\n",
              "      <td>Male</td>\n",
              "      <td>Yes</td>\n",
              "      <td>0</td>\n",
              "      <td>Not Graduate</td>\n",
              "      <td>No</td>\n",
              "      <td>2583</td>\n",
              "      <td>2358.0</td>\n",
              "      <td>120.0</td>\n",
              "      <td>360.0</td>\n",
              "      <td>1.0</td>\n",
              "      <td>Urban</td>\n",
              "      <td>Y</td>\n",
              "    </tr>\n",
              "    <tr>\n",
              "      <th>4</th>\n",
              "      <td>LP001008</td>\n",
              "      <td>Male</td>\n",
              "      <td>No</td>\n",
              "      <td>0</td>\n",
              "      <td>Graduate</td>\n",
              "      <td>No</td>\n",
              "      <td>6000</td>\n",
              "      <td>0.0</td>\n",
              "      <td>141.0</td>\n",
              "      <td>360.0</td>\n",
              "      <td>1.0</td>\n",
              "      <td>Urban</td>\n",
              "      <td>Y</td>\n",
              "    </tr>\n",
              "    <tr>\n",
              "      <th>...</th>\n",
              "      <td>...</td>\n",
              "      <td>...</td>\n",
              "      <td>...</td>\n",
              "      <td>...</td>\n",
              "      <td>...</td>\n",
              "      <td>...</td>\n",
              "      <td>...</td>\n",
              "      <td>...</td>\n",
              "      <td>...</td>\n",
              "      <td>...</td>\n",
              "      <td>...</td>\n",
              "      <td>...</td>\n",
              "      <td>...</td>\n",
              "    </tr>\n",
              "    <tr>\n",
              "      <th>609</th>\n",
              "      <td>LP002978</td>\n",
              "      <td>Female</td>\n",
              "      <td>No</td>\n",
              "      <td>0</td>\n",
              "      <td>Graduate</td>\n",
              "      <td>No</td>\n",
              "      <td>2900</td>\n",
              "      <td>0.0</td>\n",
              "      <td>71.0</td>\n",
              "      <td>360.0</td>\n",
              "      <td>1.0</td>\n",
              "      <td>Rural</td>\n",
              "      <td>Y</td>\n",
              "    </tr>\n",
              "    <tr>\n",
              "      <th>610</th>\n",
              "      <td>LP002979</td>\n",
              "      <td>Male</td>\n",
              "      <td>Yes</td>\n",
              "      <td>3+</td>\n",
              "      <td>Graduate</td>\n",
              "      <td>No</td>\n",
              "      <td>4106</td>\n",
              "      <td>0.0</td>\n",
              "      <td>40.0</td>\n",
              "      <td>180.0</td>\n",
              "      <td>1.0</td>\n",
              "      <td>Rural</td>\n",
              "      <td>Y</td>\n",
              "    </tr>\n",
              "    <tr>\n",
              "      <th>611</th>\n",
              "      <td>LP002983</td>\n",
              "      <td>Male</td>\n",
              "      <td>Yes</td>\n",
              "      <td>1</td>\n",
              "      <td>Graduate</td>\n",
              "      <td>No</td>\n",
              "      <td>8072</td>\n",
              "      <td>240.0</td>\n",
              "      <td>253.0</td>\n",
              "      <td>360.0</td>\n",
              "      <td>1.0</td>\n",
              "      <td>Urban</td>\n",
              "      <td>Y</td>\n",
              "    </tr>\n",
              "    <tr>\n",
              "      <th>612</th>\n",
              "      <td>LP002984</td>\n",
              "      <td>Male</td>\n",
              "      <td>Yes</td>\n",
              "      <td>2</td>\n",
              "      <td>Graduate</td>\n",
              "      <td>No</td>\n",
              "      <td>7583</td>\n",
              "      <td>0.0</td>\n",
              "      <td>187.0</td>\n",
              "      <td>360.0</td>\n",
              "      <td>1.0</td>\n",
              "      <td>Urban</td>\n",
              "      <td>Y</td>\n",
              "    </tr>\n",
              "    <tr>\n",
              "      <th>613</th>\n",
              "      <td>LP002990</td>\n",
              "      <td>Female</td>\n",
              "      <td>No</td>\n",
              "      <td>0</td>\n",
              "      <td>Graduate</td>\n",
              "      <td>Yes</td>\n",
              "      <td>4583</td>\n",
              "      <td>0.0</td>\n",
              "      <td>133.0</td>\n",
              "      <td>360.0</td>\n",
              "      <td>0.0</td>\n",
              "      <td>Semiurban</td>\n",
              "      <td>N</td>\n",
              "    </tr>\n",
              "  </tbody>\n",
              "</table>\n",
              "<p>614 rows × 13 columns</p>\n",
              "</div>"
            ],
            "text/plain": [
              "      Loan_ID  Gender Married  ... Credit_History Property_Area Loan_Status\n",
              "0    LP001002    Male      No  ...            1.0         Urban           Y\n",
              "1    LP001003    Male     Yes  ...            1.0         Rural           N\n",
              "2    LP001005    Male     Yes  ...            1.0         Urban           Y\n",
              "3    LP001006    Male     Yes  ...            1.0         Urban           Y\n",
              "4    LP001008    Male      No  ...            1.0         Urban           Y\n",
              "..        ...     ...     ...  ...            ...           ...         ...\n",
              "609  LP002978  Female      No  ...            1.0         Rural           Y\n",
              "610  LP002979    Male     Yes  ...            1.0         Rural           Y\n",
              "611  LP002983    Male     Yes  ...            1.0         Urban           Y\n",
              "612  LP002984    Male     Yes  ...            1.0         Urban           Y\n",
              "613  LP002990  Female      No  ...            0.0     Semiurban           N\n",
              "\n",
              "[614 rows x 13 columns]"
            ]
          },
          "metadata": {},
          "execution_count": 3
        }
      ]
    },
    {
      "cell_type": "markdown",
      "metadata": {
        "id": "B5nCxhWUV4lO"
      },
      "source": [
        "<font color='blue'>**Creating copy of original data**"
      ]
    },
    {
      "cell_type": "code",
      "metadata": {
        "id": "lmPDpfIaV4lP"
      },
      "source": [
        "data=data_loan.copy()"
      ],
      "execution_count": 4,
      "outputs": []
    },
    {
      "cell_type": "markdown",
      "metadata": {
        "id": "CDsh1DxfV4lR"
      },
      "source": [
        "<font color='blue'>**Exploaring  data analysis**\n",
        "\n",
        "    \n",
        "    \n",
        "<font color='black'>\n",
        "    \n",
        "    1.Getting to know the data\n",
        "    \n",
        "    2.Data preprocessing(Missing values)\n",
        "    \n",
        "    3.Cross table and data visualization"
      ]
    },
    {
      "cell_type": "markdown",
      "metadata": {
        "id": "ZNt4VUMSV4lS"
      },
      "source": [
        "<font color='blue'>**To check variables data type**"
      ]
    },
    {
      "cell_type": "code",
      "metadata": {
        "colab": {
          "base_uri": "https://localhost:8080/"
        },
        "id": "SDJ68NlJV4lT",
        "outputId": "7d0b3238-27c9-401a-ccb3-935af152519b"
      },
      "source": [
        "print(data.info())"
      ],
      "execution_count": 5,
      "outputs": [
        {
          "output_type": "stream",
          "name": "stdout",
          "text": [
            "<class 'pandas.core.frame.DataFrame'>\n",
            "RangeIndex: 614 entries, 0 to 613\n",
            "Data columns (total 13 columns):\n",
            " #   Column             Non-Null Count  Dtype  \n",
            "---  ------             --------------  -----  \n",
            " 0   Loan_ID            614 non-null    object \n",
            " 1   Gender             601 non-null    object \n",
            " 2   Married            611 non-null    object \n",
            " 3   Dependents         599 non-null    object \n",
            " 4   Education          614 non-null    object \n",
            " 5   Self_Employed      582 non-null    object \n",
            " 6   ApplicantIncome    614 non-null    int64  \n",
            " 7   CoapplicantIncome  614 non-null    float64\n",
            " 8   LoanAmount         592 non-null    float64\n",
            " 9   Loan_Amount_Term   600 non-null    float64\n",
            " 10  Credit_History     564 non-null    float64\n",
            " 11  Property_Area      614 non-null    object \n",
            " 12  Loan_Status        614 non-null    object \n",
            "dtypes: float64(4), int64(1), object(8)\n",
            "memory usage: 62.5+ KB\n",
            "None\n"
          ]
        }
      ]
    },
    {
      "cell_type": "markdown",
      "metadata": {
        "id": "irDrdI35V4lT"
      },
      "source": [
        "<font color='blue'>**Check for missing values**"
      ]
    },
    {
      "cell_type": "code",
      "metadata": {
        "scrolled": true,
        "colab": {
          "base_uri": "https://localhost:8080/",
          "height": 408
        },
        "id": "luPHD9JoV4lU",
        "outputId": "1f0bd454-3ce4-407c-d15a-cf0b57e1b270"
      },
      "source": [
        "data.isnull()"
      ],
      "execution_count": 6,
      "outputs": [
        {
          "output_type": "execute_result",
          "data": {
            "text/html": [
              "<div>\n",
              "<style scoped>\n",
              "    .dataframe tbody tr th:only-of-type {\n",
              "        vertical-align: middle;\n",
              "    }\n",
              "\n",
              "    .dataframe tbody tr th {\n",
              "        vertical-align: top;\n",
              "    }\n",
              "\n",
              "    .dataframe thead th {\n",
              "        text-align: right;\n",
              "    }\n",
              "</style>\n",
              "<table border=\"1\" class=\"dataframe\">\n",
              "  <thead>\n",
              "    <tr style=\"text-align: right;\">\n",
              "      <th></th>\n",
              "      <th>Loan_ID</th>\n",
              "      <th>Gender</th>\n",
              "      <th>Married</th>\n",
              "      <th>Dependents</th>\n",
              "      <th>Education</th>\n",
              "      <th>Self_Employed</th>\n",
              "      <th>ApplicantIncome</th>\n",
              "      <th>CoapplicantIncome</th>\n",
              "      <th>LoanAmount</th>\n",
              "      <th>Loan_Amount_Term</th>\n",
              "      <th>Credit_History</th>\n",
              "      <th>Property_Area</th>\n",
              "      <th>Loan_Status</th>\n",
              "    </tr>\n",
              "  </thead>\n",
              "  <tbody>\n",
              "    <tr>\n",
              "      <th>0</th>\n",
              "      <td>False</td>\n",
              "      <td>False</td>\n",
              "      <td>False</td>\n",
              "      <td>False</td>\n",
              "      <td>False</td>\n",
              "      <td>False</td>\n",
              "      <td>False</td>\n",
              "      <td>False</td>\n",
              "      <td>True</td>\n",
              "      <td>False</td>\n",
              "      <td>False</td>\n",
              "      <td>False</td>\n",
              "      <td>False</td>\n",
              "    </tr>\n",
              "    <tr>\n",
              "      <th>1</th>\n",
              "      <td>False</td>\n",
              "      <td>False</td>\n",
              "      <td>False</td>\n",
              "      <td>False</td>\n",
              "      <td>False</td>\n",
              "      <td>False</td>\n",
              "      <td>False</td>\n",
              "      <td>False</td>\n",
              "      <td>False</td>\n",
              "      <td>False</td>\n",
              "      <td>False</td>\n",
              "      <td>False</td>\n",
              "      <td>False</td>\n",
              "    </tr>\n",
              "    <tr>\n",
              "      <th>2</th>\n",
              "      <td>False</td>\n",
              "      <td>False</td>\n",
              "      <td>False</td>\n",
              "      <td>False</td>\n",
              "      <td>False</td>\n",
              "      <td>False</td>\n",
              "      <td>False</td>\n",
              "      <td>False</td>\n",
              "      <td>False</td>\n",
              "      <td>False</td>\n",
              "      <td>False</td>\n",
              "      <td>False</td>\n",
              "      <td>False</td>\n",
              "    </tr>\n",
              "    <tr>\n",
              "      <th>3</th>\n",
              "      <td>False</td>\n",
              "      <td>False</td>\n",
              "      <td>False</td>\n",
              "      <td>False</td>\n",
              "      <td>False</td>\n",
              "      <td>False</td>\n",
              "      <td>False</td>\n",
              "      <td>False</td>\n",
              "      <td>False</td>\n",
              "      <td>False</td>\n",
              "      <td>False</td>\n",
              "      <td>False</td>\n",
              "      <td>False</td>\n",
              "    </tr>\n",
              "    <tr>\n",
              "      <th>4</th>\n",
              "      <td>False</td>\n",
              "      <td>False</td>\n",
              "      <td>False</td>\n",
              "      <td>False</td>\n",
              "      <td>False</td>\n",
              "      <td>False</td>\n",
              "      <td>False</td>\n",
              "      <td>False</td>\n",
              "      <td>False</td>\n",
              "      <td>False</td>\n",
              "      <td>False</td>\n",
              "      <td>False</td>\n",
              "      <td>False</td>\n",
              "    </tr>\n",
              "    <tr>\n",
              "      <th>...</th>\n",
              "      <td>...</td>\n",
              "      <td>...</td>\n",
              "      <td>...</td>\n",
              "      <td>...</td>\n",
              "      <td>...</td>\n",
              "      <td>...</td>\n",
              "      <td>...</td>\n",
              "      <td>...</td>\n",
              "      <td>...</td>\n",
              "      <td>...</td>\n",
              "      <td>...</td>\n",
              "      <td>...</td>\n",
              "      <td>...</td>\n",
              "    </tr>\n",
              "    <tr>\n",
              "      <th>609</th>\n",
              "      <td>False</td>\n",
              "      <td>False</td>\n",
              "      <td>False</td>\n",
              "      <td>False</td>\n",
              "      <td>False</td>\n",
              "      <td>False</td>\n",
              "      <td>False</td>\n",
              "      <td>False</td>\n",
              "      <td>False</td>\n",
              "      <td>False</td>\n",
              "      <td>False</td>\n",
              "      <td>False</td>\n",
              "      <td>False</td>\n",
              "    </tr>\n",
              "    <tr>\n",
              "      <th>610</th>\n",
              "      <td>False</td>\n",
              "      <td>False</td>\n",
              "      <td>False</td>\n",
              "      <td>False</td>\n",
              "      <td>False</td>\n",
              "      <td>False</td>\n",
              "      <td>False</td>\n",
              "      <td>False</td>\n",
              "      <td>False</td>\n",
              "      <td>False</td>\n",
              "      <td>False</td>\n",
              "      <td>False</td>\n",
              "      <td>False</td>\n",
              "    </tr>\n",
              "    <tr>\n",
              "      <th>611</th>\n",
              "      <td>False</td>\n",
              "      <td>False</td>\n",
              "      <td>False</td>\n",
              "      <td>False</td>\n",
              "      <td>False</td>\n",
              "      <td>False</td>\n",
              "      <td>False</td>\n",
              "      <td>False</td>\n",
              "      <td>False</td>\n",
              "      <td>False</td>\n",
              "      <td>False</td>\n",
              "      <td>False</td>\n",
              "      <td>False</td>\n",
              "    </tr>\n",
              "    <tr>\n",
              "      <th>612</th>\n",
              "      <td>False</td>\n",
              "      <td>False</td>\n",
              "      <td>False</td>\n",
              "      <td>False</td>\n",
              "      <td>False</td>\n",
              "      <td>False</td>\n",
              "      <td>False</td>\n",
              "      <td>False</td>\n",
              "      <td>False</td>\n",
              "      <td>False</td>\n",
              "      <td>False</td>\n",
              "      <td>False</td>\n",
              "      <td>False</td>\n",
              "    </tr>\n",
              "    <tr>\n",
              "      <th>613</th>\n",
              "      <td>False</td>\n",
              "      <td>False</td>\n",
              "      <td>False</td>\n",
              "      <td>False</td>\n",
              "      <td>False</td>\n",
              "      <td>False</td>\n",
              "      <td>False</td>\n",
              "      <td>False</td>\n",
              "      <td>False</td>\n",
              "      <td>False</td>\n",
              "      <td>False</td>\n",
              "      <td>False</td>\n",
              "      <td>False</td>\n",
              "    </tr>\n",
              "  </tbody>\n",
              "</table>\n",
              "<p>614 rows × 13 columns</p>\n",
              "</div>"
            ],
            "text/plain": [
              "     Loan_ID  Gender  Married  ...  Credit_History  Property_Area  Loan_Status\n",
              "0      False   False    False  ...           False          False        False\n",
              "1      False   False    False  ...           False          False        False\n",
              "2      False   False    False  ...           False          False        False\n",
              "3      False   False    False  ...           False          False        False\n",
              "4      False   False    False  ...           False          False        False\n",
              "..       ...     ...      ...  ...             ...            ...          ...\n",
              "609    False   False    False  ...           False          False        False\n",
              "610    False   False    False  ...           False          False        False\n",
              "611    False   False    False  ...           False          False        False\n",
              "612    False   False    False  ...           False          False        False\n",
              "613    False   False    False  ...           False          False        False\n",
              "\n",
              "[614 rows x 13 columns]"
            ]
          },
          "metadata": {},
          "execution_count": 6
        }
      ]
    },
    {
      "cell_type": "markdown",
      "metadata": {
        "id": "QKMg0KbNV4lV"
      },
      "source": [
        "<font color='blue'>**Summary of numerical variables**"
      ]
    },
    {
      "cell_type": "code",
      "metadata": {
        "colab": {
          "base_uri": "https://localhost:8080/"
        },
        "id": "8ngoLTmjV4lV",
        "outputId": "fd8178bc-8ed0-4125-a0fd-d3ac738555f1"
      },
      "source": [
        "summary_num=data.describe()\n",
        "print(summary_num)"
      ],
      "execution_count": 7,
      "outputs": [
        {
          "output_type": "stream",
          "name": "stdout",
          "text": [
            "       ApplicantIncome  CoapplicantIncome  ...  Loan_Amount_Term  Credit_History\n",
            "count       614.000000         614.000000  ...         600.00000      564.000000\n",
            "mean       5403.459283        1621.245798  ...         342.00000        0.842199\n",
            "std        6109.041673        2926.248369  ...          65.12041        0.364878\n",
            "min         150.000000           0.000000  ...          12.00000        0.000000\n",
            "25%        2877.500000           0.000000  ...         360.00000        1.000000\n",
            "50%        3812.500000        1188.500000  ...         360.00000        1.000000\n",
            "75%        5795.000000        2297.250000  ...         360.00000        1.000000\n",
            "max       81000.000000       41667.000000  ...         480.00000        1.000000\n",
            "\n",
            "[8 rows x 5 columns]\n"
          ]
        }
      ]
    },
    {
      "cell_type": "markdown",
      "metadata": {
        "id": "u3reSGv9V4lW"
      },
      "source": [
        "<font color='blue'>**Summary of categorical variables**"
      ]
    },
    {
      "cell_type": "code",
      "metadata": {
        "colab": {
          "base_uri": "https://localhost:8080/"
        },
        "id": "a75dm9ZjV4lW",
        "outputId": "569a53cf-d0dc-414e-a82d-8ea64eee1c54"
      },
      "source": [
        "summary_cate=data.describe(include=\"O\")  # \"O\" for object variable type\n",
        "print(summary_cate)"
      ],
      "execution_count": 8,
      "outputs": [
        {
          "output_type": "stream",
          "name": "stdout",
          "text": [
            "         Loan_ID Gender Married  ... Self_Employed Property_Area Loan_Status\n",
            "count        614    601     611  ...           582           614         614\n",
            "unique       614      2       2  ...             2             3           2\n",
            "top     LP002319   Male     Yes  ...            No     Semiurban           Y\n",
            "freq           1    489     398  ...           500           233         422\n",
            "\n",
            "[4 rows x 8 columns]\n"
          ]
        }
      ]
    },
    {
      "cell_type": "markdown",
      "metadata": {
        "id": "E0jM5_w1V4lX"
      },
      "source": [
        "<font color='blue'>**Frequency of each categories**"
      ]
    },
    {
      "cell_type": "code",
      "metadata": {
        "colab": {
          "base_uri": "https://localhost:8080/"
        },
        "id": "ohEXi7s9V4lX",
        "outputId": "58c4e0dc-ecd3-4bd0-b53d-54476f8a39fe"
      },
      "source": [
        "data[\"Gender\"].value_counts()"
      ],
      "execution_count": 9,
      "outputs": [
        {
          "output_type": "execute_result",
          "data": {
            "text/plain": [
              "Male      489\n",
              "Female    112\n",
              "Name: Gender, dtype: int64"
            ]
          },
          "metadata": {},
          "execution_count": 9
        }
      ]
    },
    {
      "cell_type": "code",
      "metadata": {
        "colab": {
          "base_uri": "https://localhost:8080/"
        },
        "id": "RAaO4yVhV4lY",
        "outputId": "050fc4d9-0829-496b-d12e-d386a4ca84bb"
      },
      "source": [
        "data[\"Married\"].value_counts()"
      ],
      "execution_count": 10,
      "outputs": [
        {
          "output_type": "execute_result",
          "data": {
            "text/plain": [
              "Yes    398\n",
              "No     213\n",
              "Name: Married, dtype: int64"
            ]
          },
          "metadata": {},
          "execution_count": 10
        }
      ]
    },
    {
      "cell_type": "code",
      "metadata": {
        "colab": {
          "base_uri": "https://localhost:8080/"
        },
        "id": "aWF_fiihV4lY",
        "outputId": "2043f94e-9a2d-42f5-9126-ee869486b28f"
      },
      "source": [
        "data[\"Dependents\"].value_counts()"
      ],
      "execution_count": 11,
      "outputs": [
        {
          "output_type": "execute_result",
          "data": {
            "text/plain": [
              "0     345\n",
              "1     102\n",
              "2     101\n",
              "3+     51\n",
              "Name: Dependents, dtype: int64"
            ]
          },
          "metadata": {},
          "execution_count": 11
        }
      ]
    },
    {
      "cell_type": "code",
      "metadata": {
        "colab": {
          "base_uri": "https://localhost:8080/"
        },
        "id": "Zh798SenV4lZ",
        "outputId": "0d8b9f3f-aa11-4df5-c3db-0fa405994e07"
      },
      "source": [
        "data[\"Education\"].value_counts()"
      ],
      "execution_count": 12,
      "outputs": [
        {
          "output_type": "execute_result",
          "data": {
            "text/plain": [
              "Graduate        480\n",
              "Not Graduate    134\n",
              "Name: Education, dtype: int64"
            ]
          },
          "metadata": {},
          "execution_count": 12
        }
      ]
    },
    {
      "cell_type": "code",
      "metadata": {
        "colab": {
          "base_uri": "https://localhost:8080/"
        },
        "id": "wm1NmmgIV4la",
        "outputId": "65f43ff1-6d11-419c-cdf2-c3ccd1cfaaff"
      },
      "source": [
        "data[\"Self_Employed\"].value_counts()"
      ],
      "execution_count": 13,
      "outputs": [
        {
          "output_type": "execute_result",
          "data": {
            "text/plain": [
              "No     500\n",
              "Yes     82\n",
              "Name: Self_Employed, dtype: int64"
            ]
          },
          "metadata": {},
          "execution_count": 13
        }
      ]
    },
    {
      "cell_type": "code",
      "metadata": {
        "colab": {
          "base_uri": "https://localhost:8080/"
        },
        "id": "RTnnkWHdV4la",
        "outputId": "7140b59b-856e-4b1b-ff17-33d4b7a4967d"
      },
      "source": [
        "data[\"Property_Area\"].value_counts()"
      ],
      "execution_count": 14,
      "outputs": [
        {
          "output_type": "execute_result",
          "data": {
            "text/plain": [
              "Semiurban    233\n",
              "Urban        202\n",
              "Rural        179\n",
              "Name: Property_Area, dtype: int64"
            ]
          },
          "metadata": {},
          "execution_count": 14
        }
      ]
    },
    {
      "cell_type": "code",
      "metadata": {
        "scrolled": true,
        "colab": {
          "base_uri": "https://localhost:8080/"
        },
        "id": "iUWu50pDV4lb",
        "outputId": "2e90d8a5-43cc-4f6a-fbf6-6bceb38ca7d4"
      },
      "source": [
        "data[\"Loan_Status\"].value_counts()"
      ],
      "execution_count": 15,
      "outputs": [
        {
          "output_type": "execute_result",
          "data": {
            "text/plain": [
              "Y    422\n",
              "N    192\n",
              "Name: Loan_Status, dtype: int64"
            ]
          },
          "metadata": {},
          "execution_count": 15
        }
      ]
    },
    {
      "cell_type": "code",
      "metadata": {
        "scrolled": true,
        "colab": {
          "base_uri": "https://localhost:8080/",
          "height": 651
        },
        "id": "Wzc-DdXLV4lc",
        "outputId": "1d05ed21-d855-4eb6-c70d-4fadd9f77308"
      },
      "source": [
        "# Overall Categorical data distribution\n",
        "plt.figure(figsize=(12,16))\n",
        "categorical_features=[\"Gender\",\"Married\",\"Dependents\",\"Education\",\"Self_Employed\",\"Loan_Status\"]\n",
        "for index, col in enumerate(categorical_features, start=1):\n",
        "    plt.subplot(3,3,index)\n",
        "    plt.title(col)\n",
        "    plt.pie(data[col].value_counts().values, autopct='%1.0f%%',labels=data[col].value_counts().index)\n",
        "plt.tight_layout()"
      ],
      "execution_count": 16,
      "outputs": [
        {
          "output_type": "display_data",
          "data": {
            "image/png": "[encoded data removed]",
            "text/plain": [
              "<Figure size 864x1152 with 6 Axes>"
            ]
          },
          "metadata": {}
        }
      ]
    },
    {
      "cell_type": "markdown",
      "metadata": {
        "id": "eW8NP9fQV4lc"
      },
      "source": [
        "<font color=\"purple\">Larger population appearing for loans are Male,Married, Graduate, Not Self-employed, Married and with 0 dependents.\n",
        "    \n",
        " Self-Employed: Most people are not self-employed i.e., they have jobs\n",
        "    \n",
        " Credit History: Most people have creedit history 1\n",
        "    \n",
        " Loan Status: Most people get loans."
      ]
    },
    {
      "cell_type": "markdown",
      "metadata": {
        "id": "V8smbGOiV4ld"
      },
      "source": [
        "<font color='blue'>**Check for unique classes**"
      ]
    },
    {
      "cell_type": "code",
      "metadata": {
        "colab": {
          "base_uri": "https://localhost:8080/"
        },
        "id": "7sL_pO2iV4ld",
        "outputId": "1e5fd43a-e96c-46f1-e3f3-7782797dd7c8"
      },
      "source": [
        "print(data[\"Gender\"].unique())\n",
        "print(data[\"Married\"].unique())\n",
        "print(data[\"Dependents\"].unique())\n",
        "print(data[\"Education\"].unique())\n",
        "print(data[\"Self_Employed\"].unique())\n",
        "print(data[\"Property_Area\"].unique())\n",
        "print(data[\"Loan_Status\"].unique())"
      ],
      "execution_count": 17,
      "outputs": [
        {
          "output_type": "stream",
          "name": "stdout",
          "text": [
            "['Male' 'Female' nan]\n",
            "['No' 'Yes' nan]\n",
            "['0' '1' '2' '3+' nan]\n",
            "['Graduate' 'Not Graduate']\n",
            "['No' 'Yes' nan]\n",
            "['Urban' 'Rural' 'Semiurban']\n",
            "['Y' 'N']\n"
          ]
        }
      ]
    },
    {
      "cell_type": "markdown",
      "metadata": {
        "id": "qd7INhK9V4le"
      },
      "source": [
        "<font color=\"purple\">There exists 'nan' value in the Gender , Married ,Dependence, Self_employed columns"
      ]
    },
    {
      "cell_type": "markdown",
      "metadata": {
        "id": "qjGiHMwlV4le"
      },
      "source": [
        " ### <font color='blue'> * Data pre-processing"
      ]
    },
    {
      "cell_type": "markdown",
      "metadata": {
        "id": "uEugJiDpV4le"
      },
      "source": [
        "**Identify the missing data**"
      ]
    },
    {
      "cell_type": "code",
      "metadata": {
        "colab": {
          "base_uri": "https://localhost:8080/"
        },
        "id": "jenFQ8HIV4le",
        "outputId": "2e83ee0d-ee93-4820-950d-48af581f6979"
      },
      "source": [
        "print(\"Data columns with null values:\\n\",data.isnull().sum())"
      ],
      "execution_count": 18,
      "outputs": [
        {
          "output_type": "stream",
          "name": "stdout",
          "text": [
            "Data columns with null values:\n",
            " Loan_ID               0\n",
            "Gender               13\n",
            "Married               3\n",
            "Dependents           15\n",
            "Education             0\n",
            "Self_Employed        32\n",
            "ApplicantIncome       0\n",
            "CoapplicantIncome     0\n",
            "LoanAmount           22\n",
            "Loan_Amount_Term     14\n",
            "Credit_History       50\n",
            "Property_Area         0\n",
            "Loan_Status           0\n",
            "dtype: int64\n"
          ]
        }
      ]
    },
    {
      "cell_type": "markdown",
      "metadata": {
        "id": "0UqM96JvV4lf"
      },
      "source": [
        "\n",
        "    \n",
        "    We found out that 13 cells are missing under Gender, \n",
        "    3 cells missing under Married, \n",
        "    15 cells missing under Dependents ,\n",
        "    32 cells missing under self employed ,\n",
        "    22 cells missing under Loan amount, \n",
        "    14 cells missing under loan amount term \n",
        "    and 50 cells are missing under Credit History\n",
        "    Other variables do not have any missing values."
      ]
    },
    {
      "cell_type": "markdown",
      "metadata": {
        "id": "xeyP4NcAV4lf"
      },
      "source": [
        "<font color='purple'>**Let us see in a particular row either one of the column is missing or both the column values are missing.\n",
        "For that let us subset the rows at least one column is missing in a row**"
      ]
    },
    {
      "cell_type": "code",
      "metadata": {
        "scrolled": true,
        "colab": {
          "base_uri": "https://localhost:8080/",
          "height": 408
        },
        "id": "MX22dg2uV4lg",
        "outputId": "2eff9dd2-d483-4831-d285-98032247bc21"
      },
      "source": [
        "missing=data[data.isnull().any(axis=1)] \n",
        "# axis=1 we subset the rows by giving dot any axis is equal to 1\n",
        "#so it considered at least one missing colums in a particular row\n",
        "missing"
      ],
      "execution_count": 19,
      "outputs": [
        {
          "output_type": "execute_result",
          "data": {
            "text/html": [
              "<div>\n",
              "<style scoped>\n",
              "    .dataframe tbody tr th:only-of-type {\n",
              "        vertical-align: middle;\n",
              "    }\n",
              "\n",
              "    .dataframe tbody tr th {\n",
              "        vertical-align: top;\n",
              "    }\n",
              "\n",
              "    .dataframe thead th {\n",
              "        text-align: right;\n",
              "    }\n",
              "</style>\n",
              "<table border=\"1\" class=\"dataframe\">\n",
              "  <thead>\n",
              "    <tr style=\"text-align: right;\">\n",
              "      <th></th>\n",
              "      <th>Loan_ID</th>\n",
              "      <th>Gender</th>\n",
              "      <th>Married</th>\n",
              "      <th>Dependents</th>\n",
              "      <th>Education</th>\n",
              "      <th>Self_Employed</th>\n",
              "      <th>ApplicantIncome</th>\n",
              "      <th>CoapplicantIncome</th>\n",
              "      <th>LoanAmount</th>\n",
              "      <th>Loan_Amount_Term</th>\n",
              "      <th>Credit_History</th>\n",
              "      <th>Property_Area</th>\n",
              "      <th>Loan_Status</th>\n",
              "    </tr>\n",
              "  </thead>\n",
              "  <tbody>\n",
              "    <tr>\n",
              "      <th>0</th>\n",
              "      <td>LP001002</td>\n",
              "      <td>Male</td>\n",
              "      <td>No</td>\n",
              "      <td>0</td>\n",
              "      <td>Graduate</td>\n",
              "      <td>No</td>\n",
              "      <td>5849</td>\n",
              "      <td>0.0</td>\n",
              "      <td>NaN</td>\n",
              "      <td>360.0</td>\n",
              "      <td>1.0</td>\n",
              "      <td>Urban</td>\n",
              "      <td>Y</td>\n",
              "    </tr>\n",
              "    <tr>\n",
              "      <th>11</th>\n",
              "      <td>LP001027</td>\n",
              "      <td>Male</td>\n",
              "      <td>Yes</td>\n",
              "      <td>2</td>\n",
              "      <td>Graduate</td>\n",
              "      <td>NaN</td>\n",
              "      <td>2500</td>\n",
              "      <td>1840.0</td>\n",
              "      <td>109.0</td>\n",
              "      <td>360.0</td>\n",
              "      <td>1.0</td>\n",
              "      <td>Urban</td>\n",
              "      <td>Y</td>\n",
              "    </tr>\n",
              "    <tr>\n",
              "      <th>16</th>\n",
              "      <td>LP001034</td>\n",
              "      <td>Male</td>\n",
              "      <td>No</td>\n",
              "      <td>1</td>\n",
              "      <td>Not Graduate</td>\n",
              "      <td>No</td>\n",
              "      <td>3596</td>\n",
              "      <td>0.0</td>\n",
              "      <td>100.0</td>\n",
              "      <td>240.0</td>\n",
              "      <td>NaN</td>\n",
              "      <td>Urban</td>\n",
              "      <td>Y</td>\n",
              "    </tr>\n",
              "    <tr>\n",
              "      <th>19</th>\n",
              "      <td>LP001041</td>\n",
              "      <td>Male</td>\n",
              "      <td>Yes</td>\n",
              "      <td>0</td>\n",
              "      <td>Graduate</td>\n",
              "      <td>NaN</td>\n",
              "      <td>2600</td>\n",
              "      <td>3500.0</td>\n",
              "      <td>115.0</td>\n",
              "      <td>NaN</td>\n",
              "      <td>1.0</td>\n",
              "      <td>Urban</td>\n",
              "      <td>Y</td>\n",
              "    </tr>\n",
              "    <tr>\n",
              "      <th>23</th>\n",
              "      <td>LP001050</td>\n",
              "      <td>NaN</td>\n",
              "      <td>Yes</td>\n",
              "      <td>2</td>\n",
              "      <td>Not Graduate</td>\n",
              "      <td>No</td>\n",
              "      <td>3365</td>\n",
              "      <td>1917.0</td>\n",
              "      <td>112.0</td>\n",
              "      <td>360.0</td>\n",
              "      <td>0.0</td>\n",
              "      <td>Rural</td>\n",
              "      <td>N</td>\n",
              "    </tr>\n",
              "    <tr>\n",
              "      <th>...</th>\n",
              "      <td>...</td>\n",
              "      <td>...</td>\n",
              "      <td>...</td>\n",
              "      <td>...</td>\n",
              "      <td>...</td>\n",
              "      <td>...</td>\n",
              "      <td>...</td>\n",
              "      <td>...</td>\n",
              "      <td>...</td>\n",
              "      <td>...</td>\n",
              "      <td>...</td>\n",
              "      <td>...</td>\n",
              "      <td>...</td>\n",
              "    </tr>\n",
              "    <tr>\n",
              "      <th>592</th>\n",
              "      <td>LP002933</td>\n",
              "      <td>NaN</td>\n",
              "      <td>No</td>\n",
              "      <td>3+</td>\n",
              "      <td>Graduate</td>\n",
              "      <td>Yes</td>\n",
              "      <td>9357</td>\n",
              "      <td>0.0</td>\n",
              "      <td>292.0</td>\n",
              "      <td>360.0</td>\n",
              "      <td>1.0</td>\n",
              "      <td>Semiurban</td>\n",
              "      <td>Y</td>\n",
              "    </tr>\n",
              "    <tr>\n",
              "      <th>597</th>\n",
              "      <td>LP002943</td>\n",
              "      <td>Male</td>\n",
              "      <td>No</td>\n",
              "      <td>NaN</td>\n",
              "      <td>Graduate</td>\n",
              "      <td>No</td>\n",
              "      <td>2987</td>\n",
              "      <td>0.0</td>\n",
              "      <td>88.0</td>\n",
              "      <td>360.0</td>\n",
              "      <td>0.0</td>\n",
              "      <td>Semiurban</td>\n",
              "      <td>N</td>\n",
              "    </tr>\n",
              "    <tr>\n",
              "      <th>600</th>\n",
              "      <td>LP002949</td>\n",
              "      <td>Female</td>\n",
              "      <td>No</td>\n",
              "      <td>3+</td>\n",
              "      <td>Graduate</td>\n",
              "      <td>NaN</td>\n",
              "      <td>416</td>\n",
              "      <td>41667.0</td>\n",
              "      <td>350.0</td>\n",
              "      <td>180.0</td>\n",
              "      <td>NaN</td>\n",
              "      <td>Urban</td>\n",
              "      <td>N</td>\n",
              "    </tr>\n",
              "    <tr>\n",
              "      <th>601</th>\n",
              "      <td>LP002950</td>\n",
              "      <td>Male</td>\n",
              "      <td>Yes</td>\n",
              "      <td>0</td>\n",
              "      <td>Not Graduate</td>\n",
              "      <td>NaN</td>\n",
              "      <td>2894</td>\n",
              "      <td>2792.0</td>\n",
              "      <td>155.0</td>\n",
              "      <td>360.0</td>\n",
              "      <td>1.0</td>\n",
              "      <td>Rural</td>\n",
              "      <td>Y</td>\n",
              "    </tr>\n",
              "    <tr>\n",
              "      <th>605</th>\n",
              "      <td>LP002960</td>\n",
              "      <td>Male</td>\n",
              "      <td>Yes</td>\n",
              "      <td>0</td>\n",
              "      <td>Not Graduate</td>\n",
              "      <td>No</td>\n",
              "      <td>2400</td>\n",
              "      <td>3800.0</td>\n",
              "      <td>NaN</td>\n",
              "      <td>180.0</td>\n",
              "      <td>1.0</td>\n",
              "      <td>Urban</td>\n",
              "      <td>N</td>\n",
              "    </tr>\n",
              "  </tbody>\n",
              "</table>\n",
              "<p>134 rows × 13 columns</p>\n",
              "</div>"
            ],
            "text/plain": [
              "      Loan_ID  Gender Married  ... Credit_History Property_Area Loan_Status\n",
              "0    LP001002    Male      No  ...            1.0         Urban           Y\n",
              "11   LP001027    Male     Yes  ...            1.0         Urban           Y\n",
              "16   LP001034    Male      No  ...            NaN         Urban           Y\n",
              "19   LP001041    Male     Yes  ...            1.0         Urban           Y\n",
              "23   LP001050     NaN     Yes  ...            0.0         Rural           N\n",
              "..        ...     ...     ...  ...            ...           ...         ...\n",
              "592  LP002933     NaN      No  ...            1.0     Semiurban           Y\n",
              "597  LP002943    Male      No  ...            0.0     Semiurban           N\n",
              "600  LP002949  Female      No  ...            NaN         Urban           N\n",
              "601  LP002950    Male     Yes  ...            1.0         Rural           Y\n",
              "605  LP002960    Male     Yes  ...            1.0         Urban           N\n",
              "\n",
              "[134 rows x 13 columns]"
            ]
          },
          "metadata": {},
          "execution_count": 19
        }
      ]
    },
    {
      "cell_type": "markdown",
      "metadata": {
        "id": "AjIHa3ZMV4lh"
      },
      "source": [
        "<font color='purple'> **In this case, we have to model the mechanisms that produce missing values or the relationship of interest which is very complex in these case. So here we are going to remove all the rows with missing values.**"
      ]
    },
    {
      "cell_type": "code",
      "metadata": {
        "id": "1uu8u5QMV4lh"
      },
      "source": [
        "data2=data.dropna(axis=0)  # axis =0 means remove row if contain nan values"
      ],
      "execution_count": 21,
      "outputs": []
    },
    {
      "cell_type": "code",
      "metadata": {
        "colab": {
          "base_uri": "https://localhost:8080/"
        },
        "id": "cJAbeV40V4lh",
        "outputId": "5f896737-a936-440d-f3e3-fb3f93661897"
      },
      "source": [
        "print(\"Data columns with null values:\\n\",data2.isnull().sum())"
      ],
      "execution_count": 22,
      "outputs": [
        {
          "output_type": "stream",
          "name": "stdout",
          "text": [
            "Data columns with null values:\n",
            " Loan_ID              0\n",
            "Gender               0\n",
            "Married              0\n",
            "Dependents           0\n",
            "Education            0\n",
            "Self_Employed        0\n",
            "ApplicantIncome      0\n",
            "CoapplicantIncome    0\n",
            "LoanAmount           0\n",
            "Loan_Amount_Term     0\n",
            "Credit_History       0\n",
            "Property_Area        0\n",
            "Loan_Status          0\n",
            "dtype: int64\n"
          ]
        }
      ]
    },
    {
      "cell_type": "markdown",
      "metadata": {
        "id": "B-LmDH_wV4li"
      },
      "source": [
        "### <font color='blue'> Relationship between independent variables"
      ]
    },
    {
      "cell_type": "code",
      "metadata": {
        "colab": {
          "base_uri": "https://localhost:8080/"
        },
        "id": "8BBMR3JrV4li",
        "outputId": "7e499f81-63ea-43ba-84e2-d2bacb070c53"
      },
      "source": [
        "correlation=data2.corr()\n",
        "print(correlation)"
      ],
      "execution_count": 23,
      "outputs": [
        {
          "output_type": "stream",
          "name": "stdout",
          "text": [
            "                   ApplicantIncome  CoapplicantIncome  LoanAmount  \\\n",
            "ApplicantIncome           1.000000          -0.112588    0.495310   \n",
            "CoapplicantIncome        -0.112588           1.000000    0.190740   \n",
            "LoanAmount                0.495310           0.190740    1.000000   \n",
            "Loan_Amount_Term         -0.010838          -0.005775    0.050867   \n",
            "Credit_History           -0.056152          -0.008692   -0.040773   \n",
            "\n",
            "                   Loan_Amount_Term  Credit_History  \n",
            "ApplicantIncome           -0.010838       -0.056152  \n",
            "CoapplicantIncome         -0.005775       -0.008692  \n",
            "LoanAmount                 0.050867       -0.040773  \n",
            "Loan_Amount_Term           1.000000        0.032937  \n",
            "Credit_History             0.032937        1.000000  \n"
          ]
        }
      ]
    },
    {
      "cell_type": "markdown",
      "metadata": {
        "id": "dpyLSYitV4li"
      },
      "source": [
        "<font color='purple'>We can say that there is a strong relationship between two variable if it closer to 1. If correlation value closer to 0 then there is no relationship exists.\n",
        "\n",
        "<font color='purple'>There is moderate relationship between Loan Amount and Applicant Income."
      ]
    },
    {
      "cell_type": "code",
      "metadata": {
        "scrolled": true,
        "colab": {
          "base_uri": "https://localhost:8080/",
          "height": 343
        },
        "id": "H3yVfpSnV4li",
        "outputId": "74434e88-e22b-45c7-d9d0-99e5d4931e1e"
      },
      "source": [
        "sns.set(rc={'figure.figsize':(13,5)})\n",
        "sns.heatmap(data2.corr(),annot=True,cmap='YlGnBu')"
      ],
      "execution_count": 24,
      "outputs": [
        {
          "output_type": "execute_result",
          "data": {
            "text/plain": [
              "<matplotlib.axes._subplots.AxesSubplot at 0x7fc79ab6b810>"
            ]
          },
          "metadata": {},
          "execution_count": 24
        },
        {
          "output_type": "display_data",
          "data": {
            "image/png": "[encoded data removed]",
            "text/plain": [
              "<Figure size 936x360 with 2 Axes>"
            ]
          },
          "metadata": {}
        }
      ]
    },
    {
      "cell_type": "markdown",
      "metadata": {
        "id": "3u4gSKe6V4lj"
      },
      "source": [
        "<font color='purple'>From the above heatmap, we can see that there is a moderate correlation only in between \n",
        "Applicant Income and the Loan Amount"
      ]
    },
    {
      "cell_type": "markdown",
      "metadata": {
        "id": "mIlxUcuJV4lj"
      },
      "source": [
        "<font color='blue'>**Cross table and data visualization**"
      ]
    },
    {
      "cell_type": "markdown",
      "metadata": {
        "id": "PmHtZFQrV4lj"
      },
      "source": [
        "<font color='blue'>Gender Proportion table"
      ]
    },
    {
      "cell_type": "code",
      "metadata": {
        "colab": {
          "base_uri": "https://localhost:8080/",
          "height": 138
        },
        "id": "1lhqz5_nV4lj",
        "outputId": "66a9449e-0f7f-40be-d45d-574ffde1c9c0"
      },
      "source": [
        "gender= pd.crosstab(index=data2[\"Gender\"],columns=\"proportion\",normalize=True);gender\n",
        "# Normalize=True , by dividing all values by the sum of values"
      ],
      "execution_count": 25,
      "outputs": [
        {
          "output_type": "execute_result",
          "data": {
            "text/html": [
              "<div>\n",
              "<style scoped>\n",
              "    .dataframe tbody tr th:only-of-type {\n",
              "        vertical-align: middle;\n",
              "    }\n",
              "\n",
              "    .dataframe tbody tr th {\n",
              "        vertical-align: top;\n",
              "    }\n",
              "\n",
              "    .dataframe thead th {\n",
              "        text-align: right;\n",
              "    }\n",
              "</style>\n",
              "<table border=\"1\" class=\"dataframe\">\n",
              "  <thead>\n",
              "    <tr style=\"text-align: right;\">\n",
              "      <th>col_0</th>\n",
              "      <th>proportion</th>\n",
              "    </tr>\n",
              "    <tr>\n",
              "      <th>Gender</th>\n",
              "      <th></th>\n",
              "    </tr>\n",
              "  </thead>\n",
              "  <tbody>\n",
              "    <tr>\n",
              "      <th>Female</th>\n",
              "      <td>0.179167</td>\n",
              "    </tr>\n",
              "    <tr>\n",
              "      <th>Male</th>\n",
              "      <td>0.820833</td>\n",
              "    </tr>\n",
              "  </tbody>\n",
              "</table>\n",
              "</div>"
            ],
            "text/plain": [
              "col_0   proportion\n",
              "Gender            \n",
              "Female    0.179167\n",
              "Male      0.820833"
            ]
          },
          "metadata": {},
          "execution_count": 25
        }
      ]
    },
    {
      "cell_type": "markdown",
      "metadata": {
        "id": "upSCcs1MV4lk"
      },
      "source": [
        "<font color='blue'>Credit History proportion table"
      ]
    },
    {
      "cell_type": "code",
      "metadata": {
        "scrolled": false,
        "colab": {
          "base_uri": "https://localhost:8080/",
          "height": 138
        },
        "id": "EJ4i0khyV4lk",
        "outputId": "2574c09c-29c6-4ad2-8fb5-147958ea1af4"
      },
      "source": [
        "Credit_History= pd.crosstab(index=data2[\"Credit_History\"],columns=\"proportion\",normalize=True);Credit_History\n"
      ],
      "execution_count": 26,
      "outputs": [
        {
          "output_type": "execute_result",
          "data": {
            "text/html": [
              "<div>\n",
              "<style scoped>\n",
              "    .dataframe tbody tr th:only-of-type {\n",
              "        vertical-align: middle;\n",
              "    }\n",
              "\n",
              "    .dataframe tbody tr th {\n",
              "        vertical-align: top;\n",
              "    }\n",
              "\n",
              "    .dataframe thead th {\n",
              "        text-align: right;\n",
              "    }\n",
              "</style>\n",
              "<table border=\"1\" class=\"dataframe\">\n",
              "  <thead>\n",
              "    <tr style=\"text-align: right;\">\n",
              "      <th>col_0</th>\n",
              "      <th>proportion</th>\n",
              "    </tr>\n",
              "    <tr>\n",
              "      <th>Credit_History</th>\n",
              "      <th></th>\n",
              "    </tr>\n",
              "  </thead>\n",
              "  <tbody>\n",
              "    <tr>\n",
              "      <th>0.0</th>\n",
              "      <td>0.145833</td>\n",
              "    </tr>\n",
              "    <tr>\n",
              "      <th>1.0</th>\n",
              "      <td>0.854167</td>\n",
              "    </tr>\n",
              "  </tbody>\n",
              "</table>\n",
              "</div>"
            ],
            "text/plain": [
              "col_0           proportion\n",
              "Credit_History            \n",
              "0.0               0.145833\n",
              "1.0               0.854167"
            ]
          },
          "metadata": {},
          "execution_count": 26
        }
      ]
    },
    {
      "cell_type": "code",
      "metadata": {
        "scrolled": true,
        "colab": {
          "base_uri": "https://localhost:8080/",
          "height": 453
        },
        "id": "Piz86jk_V4lk",
        "outputId": "01d5f62e-59a5-42c6-8d44-b0e47e56c7a0"
      },
      "source": [
        "sns.set(rc={'figure.figsize':(13,5)})\n",
        "sns.jointplot(x='ApplicantIncome',y='LoanAmount',data=data2,hue=data2[\"Gender\"])"
      ],
      "execution_count": 27,
      "outputs": [
        {
          "output_type": "execute_result",
          "data": {
            "text/plain": [
              "<seaborn.axisgrid.JointGrid at 0x7fc798e0b1d0>"
            ]
          },
          "metadata": {},
          "execution_count": 27
        },
        {
          "output_type": "display_data",
          "data": {
            "image/png": "[encoded data removed]",
            "text/plain": [
              "<Figure size 432x432 with 3 Axes>"
            ]
          },
          "metadata": {}
        }
      ]
    },
    {
      "cell_type": "markdown",
      "metadata": {
        "id": "BjUFDysPV4ll"
      },
      "source": [
        "<font color=\"purple\">From the above graph we can see that most of the applicant income are around 0-20000 and the loan amount is 0-350\n",
        "also there are more male applicants than female applicants"
      ]
    },
    {
      "cell_type": "code",
      "metadata": {
        "scrolled": true,
        "colab": {
          "base_uri": "https://localhost:8080/",
          "height": 355
        },
        "id": "xTYPdf-wV4ll",
        "outputId": "c2b407b9-d312-4e9e-bae4-1704f87d7c4c"
      },
      "source": [
        "#loan-amount by the person with its own income amount, with laon status\n",
        "sns.set(rc={'figure.figsize':(15,5)})\n",
        "sns.scatterplot(x=\"ApplicantIncome\", y=\"LoanAmount\",hue='Loan_Status',data=data2)"
      ],
      "execution_count": 28,
      "outputs": [
        {
          "output_type": "execute_result",
          "data": {
            "text/plain": [
              "<matplotlib.axes._subplots.AxesSubplot at 0x7fc796c8eed0>"
            ]
          },
          "metadata": {},
          "execution_count": 28
        },
        {
          "output_type": "display_data",
          "data": {
            "image/png": "[encoded data removed]",
            "text/plain": [
              "<Figure size 1080x360 with 1 Axes>"
            ]
          },
          "metadata": {}
        }
      ]
    },
    {
      "cell_type": "markdown",
      "metadata": {
        "id": "rUytX3UHV4ll"
      },
      "source": [
        "<font color=\"purple\"> Seems like Loan Amount and Applicant Income have a slight linear relationship."
      ]
    },
    {
      "cell_type": "code",
      "metadata": {
        "scrolled": true,
        "colab": {
          "base_uri": "https://localhost:8080/",
          "height": 355
        },
        "id": "6R04-qTdV4lm",
        "outputId": "a75de168-b18c-4fb2-e952-35dcc2c016f7"
      },
      "source": [
        "#plt.figure(figsize=(10,7))\n",
        "sns.set(rc={'figure.figsize':(13,5)})\n",
        "sns.histplot(x='ApplicantIncome',data=data2,color='Red')"
      ],
      "execution_count": 29,
      "outputs": [
        {
          "output_type": "execute_result",
          "data": {
            "text/plain": [
              "<matplotlib.axes._subplots.AxesSubplot at 0x7fc796bacc50>"
            ]
          },
          "metadata": {},
          "execution_count": 29
        },
        {
          "output_type": "display_data",
          "data": {
            "image/png": "[encoded data removed]",
            "text/plain": [
              "<Figure size 936x360 with 1 Axes>"
            ]
          },
          "metadata": {}
        }
      ]
    },
    {
      "cell_type": "markdown",
      "metadata": {
        "id": "piStc_uhV4lm"
      },
      "source": [
        "<font color=\"purple\">The distribution plots indicate that majority of those people have submitted an application for loan who have income between 0 & 10000($)."
      ]
    },
    {
      "cell_type": "code",
      "metadata": {
        "colab": {
          "base_uri": "https://localhost:8080/",
          "height": 516
        },
        "id": "VmyQJLNWV4lm",
        "outputId": "b4cfc2ad-159e-41d2-edb6-a4e13c7cdee4"
      },
      "source": [
        "plt.figure(figsize=(10,7))\n",
        "sns.distplot(data2['LoanAmount'],color='purple')"
      ],
      "execution_count": 30,
      "outputs": [
        {
          "output_type": "stream",
          "name": "stderr",
          "text": [
            "/usr/local/lib/python3.7/dist-packages/seaborn/distributions.py:2619: FutureWarning: `distplot` is a deprecated function and will be removed in a future version. Please adapt your code to use either `displot` (a figure-level function with similar flexibility) or `histplot` (an axes-level function for histograms).\n",
            "  warnings.warn(msg, FutureWarning)\n"
          ]
        },
        {
          "output_type": "execute_result",
          "data": {
            "text/plain": [
              "<matplotlib.axes._subplots.AxesSubplot at 0x7fc798cee050>"
            ]
          },
          "metadata": {},
          "execution_count": 30
        },
        {
          "output_type": "display_data",
          "data": {
            "image/png": "[encoded data removed]",
            "text/plain": [
              "<Figure size 720x504 with 1 Axes>"
            ]
          },
          "metadata": {}
        }
      ]
    },
    {
      "cell_type": "markdown",
      "metadata": {
        "id": "tSrrzTzDV4ln"
      },
      "source": [
        "<font color=\"purple\">\"The following distribution plots show that majority of people wanted a loan between 100,000 & 200,000($)."
      ]
    },
    {
      "cell_type": "markdown",
      "metadata": {
        "id": "onTiOd0ZV4ln"
      },
      "source": [
        "## <font color=\"blue\"> We want to check wheather Credit_Hostory and Loan_status are related or not ."
      ]
    },
    {
      "cell_type": "markdown",
      "metadata": {
        "id": "A8PwH4BfV4ln"
      },
      "source": [
        "### Statistical test: Chi square test for independence\n",
        "\n",
        "The Chi-square test of independence is a statistical hypothesis test used to determine whether two categorical or nominal variables are likely to be related or not."
      ]
    },
    {
      "cell_type": "markdown",
      "metadata": {
        "id": "LXLOO9cnV4ln"
      },
      "source": [
        "**We want to test the following null and alternative hypothesis**,\n",
        "\n",
        "Ho: There is no relationship between credit history and loan status\n",
        "\n",
        "Vs\n",
        "\n",
        "H1: There is relationship between credit history and loan status"
      ]
    },
    {
      "cell_type": "code",
      "metadata": {
        "scrolled": true,
        "colab": {
          "base_uri": "https://localhost:8080/",
          "height": 170
        },
        "id": "ik9-rqK0V4ln",
        "outputId": "c6cc393d-a3fa-401b-ee05-b48231bc8e33"
      },
      "source": [
        "from scipy import stats\n",
        "ct = pd.crosstab(data2.Credit_History, data2.Loan_Status, margins=True) #ct :Contigency table\n",
        "ct"
      ],
      "execution_count": 31,
      "outputs": [
        {
          "output_type": "execute_result",
          "data": {
            "text/html": [
              "<div>\n",
              "<style scoped>\n",
              "    .dataframe tbody tr th:only-of-type {\n",
              "        vertical-align: middle;\n",
              "    }\n",
              "\n",
              "    .dataframe tbody tr th {\n",
              "        vertical-align: top;\n",
              "    }\n",
              "\n",
              "    .dataframe thead th {\n",
              "        text-align: right;\n",
              "    }\n",
              "</style>\n",
              "<table border=\"1\" class=\"dataframe\">\n",
              "  <thead>\n",
              "    <tr style=\"text-align: right;\">\n",
              "      <th>Loan_Status</th>\n",
              "      <th>N</th>\n",
              "      <th>Y</th>\n",
              "      <th>All</th>\n",
              "    </tr>\n",
              "    <tr>\n",
              "      <th>Credit_History</th>\n",
              "      <th></th>\n",
              "      <th></th>\n",
              "      <th></th>\n",
              "    </tr>\n",
              "  </thead>\n",
              "  <tbody>\n",
              "    <tr>\n",
              "      <th>0.0</th>\n",
              "      <td>63</td>\n",
              "      <td>7</td>\n",
              "      <td>70</td>\n",
              "    </tr>\n",
              "    <tr>\n",
              "      <th>1.0</th>\n",
              "      <td>85</td>\n",
              "      <td>325</td>\n",
              "      <td>410</td>\n",
              "    </tr>\n",
              "    <tr>\n",
              "      <th>All</th>\n",
              "      <td>148</td>\n",
              "      <td>332</td>\n",
              "      <td>480</td>\n",
              "    </tr>\n",
              "  </tbody>\n",
              "</table>\n",
              "</div>"
            ],
            "text/plain": [
              "Loan_Status       N    Y  All\n",
              "Credit_History               \n",
              "0.0              63    7   70\n",
              "1.0              85  325  410\n",
              "All             148  332  480"
            ]
          },
          "metadata": {},
          "execution_count": 31
        }
      ]
    },
    {
      "cell_type": "code",
      "metadata": {
        "scrolled": false,
        "colab": {
          "base_uri": "https://localhost:8080/"
        },
        "id": "vQ4eumhLV4lo",
        "outputId": "6f7be9e6-d9c2-48b6-d07f-fc53dd49ad7d"
      },
      "source": [
        "obs = np.array([ct.iloc[0][0:2].values,ct.iloc[1][0:2].values])\n",
        "chisq_test=stats.chi2_contingency(obs)[0:3]\n",
        "print(\"The chisquare test statistic= \",chisq_test[0], \"\\nDegree of Frredom (df)= \",chisq_test[2],\"\\nP-value= \",chisq_test[1])\n",
        "if chisq_test[1] <=0.05:\n",
        "    print(\"Decision:Reject null hypothesis,we can conclude that there is significant evidence to say that there is relationship between credit history and loan status\")\n",
        "else:\n",
        "    print(\"Decision:Do not reject null hypothesis,We can conclude that there is significant evidence to say that there is relationship between credit history and loan status\")"
      ],
      "execution_count": 32,
      "outputs": [
        {
          "output_type": "stream",
          "name": "stdout",
          "text": [
            "The chisquare test statistic=  131.29328312402075 \n",
            "Degree of Frredom (df)=  1 \n",
            "P-value=  2.135981766869101e-30\n",
            "Decision:Reject null hypothesis,we can conclude that there is significant evidence to say that there is relationship between credit history and loan status\n"
          ]
        }
      ]
    },
    {
      "cell_type": "markdown",
      "metadata": {
        "id": "gCSVacX9V4lo"
      },
      "source": [
        "## <font color=\"blue\"> We want to check wheather education and loan_status are related or not ."
      ]
    },
    {
      "cell_type": "markdown",
      "metadata": {
        "id": "8Oknqrg0V4lo"
      },
      "source": [
        "### Statistical test: Chi square test for independence\n",
        "**We want to test the following null and alternative hypothesis**,\n",
        "\n",
        "Ho: There is no relationship between education and loan status\n",
        "\n",
        "Vs\n",
        "\n",
        "H1: There is relationship between education and loan status"
      ]
    },
    {
      "cell_type": "code",
      "metadata": {
        "colab": {
          "base_uri": "https://localhost:8080/",
          "height": 170
        },
        "id": "5vk7JLDWV4lo",
        "outputId": "b4aa85b8-d321-47e7-93cc-53d9ffe35126"
      },
      "source": [
        "from scipy import stats\n",
        "ct = pd.crosstab(data2.Education, data2.Loan_Status, margins=True) #ct :Contigency table\n",
        "ct"
      ],
      "execution_count": 33,
      "outputs": [
        {
          "output_type": "execute_result",
          "data": {
            "text/html": [
              "<div>\n",
              "<style scoped>\n",
              "    .dataframe tbody tr th:only-of-type {\n",
              "        vertical-align: middle;\n",
              "    }\n",
              "\n",
              "    .dataframe tbody tr th {\n",
              "        vertical-align: top;\n",
              "    }\n",
              "\n",
              "    .dataframe thead th {\n",
              "        text-align: right;\n",
              "    }\n",
              "</style>\n",
              "<table border=\"1\" class=\"dataframe\">\n",
              "  <thead>\n",
              "    <tr style=\"text-align: right;\">\n",
              "      <th>Loan_Status</th>\n",
              "      <th>N</th>\n",
              "      <th>Y</th>\n",
              "      <th>All</th>\n",
              "    </tr>\n",
              "    <tr>\n",
              "      <th>Education</th>\n",
              "      <th></th>\n",
              "      <th></th>\n",
              "      <th></th>\n",
              "    </tr>\n",
              "  </thead>\n",
              "  <tbody>\n",
              "    <tr>\n",
              "      <th>Graduate</th>\n",
              "      <td>112</td>\n",
              "      <td>271</td>\n",
              "      <td>383</td>\n",
              "    </tr>\n",
              "    <tr>\n",
              "      <th>Not Graduate</th>\n",
              "      <td>36</td>\n",
              "      <td>61</td>\n",
              "      <td>97</td>\n",
              "    </tr>\n",
              "    <tr>\n",
              "      <th>All</th>\n",
              "      <td>148</td>\n",
              "      <td>332</td>\n",
              "      <td>480</td>\n",
              "    </tr>\n",
              "  </tbody>\n",
              "</table>\n",
              "</div>"
            ],
            "text/plain": [
              "Loan_Status     N    Y  All\n",
              "Education                  \n",
              "Graduate      112  271  383\n",
              "Not Graduate   36   61   97\n",
              "All           148  332  480"
            ]
          },
          "metadata": {},
          "execution_count": 33
        }
      ]
    },
    {
      "cell_type": "code",
      "metadata": {
        "colab": {
          "base_uri": "https://localhost:8080/"
        },
        "id": "6Tw4RGD-V4lp",
        "outputId": "25d9e96c-0f69-43bb-b6ad-f1e5603e60b2"
      },
      "source": [
        "obs = np.array([ct.iloc[0][0:2].values,ct.iloc[1][0:2].values])\n",
        "chisq_test=stats.chi2_contingency(obs)[0:3]\n",
        "print(\"The chisquare test statistic= \",chisq_test[0], \"\\nDegree of Frredom (df)= \",chisq_test[2],\"\\nP-value= \",chisq_test[1])\n",
        "pvalue=chisq_test[1]\n",
        "if pvalue <=0.05:\n",
        "    print(\"Decision:Reject null hypothesis,we can conclude that there is significant evidence to say that there is relationship between education and loan status\")\n",
        "else:\n",
        "    print(\"Decision:Do not reject null hypothesis,We can conclude that there is significant evidence to say that there is relationship between education and loan status\")"
      ],
      "execution_count": 34,
      "outputs": [
        {
          "output_type": "stream",
          "name": "stdout",
          "text": [
            "The chisquare test statistic=  1.8942441427817767 \n",
            "Degree of Frredom (df)=  1 \n",
            "P-value=  0.16872400009733118\n",
            "Decision:Do not reject null hypothesis,We can conclude that there is significant evidence to say that there is relationship between education and loan status\n"
          ]
        }
      ]
    },
    {
      "cell_type": "markdown",
      "metadata": {
        "id": "6nO89WspV4lq"
      },
      "source": [
        "## <font color=\"blue\"> We want to check wheather married and loan_status are related or not ."
      ]
    },
    {
      "cell_type": "markdown",
      "metadata": {
        "id": "8MgvqVLWV4lq"
      },
      "source": [
        "### Statistical test: Chi square test for independence\n",
        "**We want to test the following null and alternative hypothesis**,\n",
        "\n",
        "Ho: There is no relationship between married and loan status\n",
        "\n",
        "Vs\n",
        "\n",
        "H1: There is relationship between married and loan status"
      ]
    },
    {
      "cell_type": "code",
      "metadata": {
        "colab": {
          "base_uri": "https://localhost:8080/",
          "height": 170
        },
        "id": "CekKIg3bV4lq",
        "outputId": "a99ee1de-958a-447f-b916-5a7de6c94dc2"
      },
      "source": [
        "from scipy import stats\n",
        "ct = pd.crosstab(data2.Married, data2.Loan_Status, margins=True) #ct :Contigency table\n",
        "ct"
      ],
      "execution_count": 35,
      "outputs": [
        {
          "output_type": "execute_result",
          "data": {
            "text/html": [
              "<div>\n",
              "<style scoped>\n",
              "    .dataframe tbody tr th:only-of-type {\n",
              "        vertical-align: middle;\n",
              "    }\n",
              "\n",
              "    .dataframe tbody tr th {\n",
              "        vertical-align: top;\n",
              "    }\n",
              "\n",
              "    .dataframe thead th {\n",
              "        text-align: right;\n",
              "    }\n",
              "</style>\n",
              "<table border=\"1\" class=\"dataframe\">\n",
              "  <thead>\n",
              "    <tr style=\"text-align: right;\">\n",
              "      <th>Loan_Status</th>\n",
              "      <th>N</th>\n",
              "      <th>Y</th>\n",
              "      <th>All</th>\n",
              "    </tr>\n",
              "    <tr>\n",
              "      <th>Married</th>\n",
              "      <th></th>\n",
              "      <th></th>\n",
              "      <th></th>\n",
              "    </tr>\n",
              "  </thead>\n",
              "  <tbody>\n",
              "    <tr>\n",
              "      <th>No</th>\n",
              "      <td>64</td>\n",
              "      <td>105</td>\n",
              "      <td>169</td>\n",
              "    </tr>\n",
              "    <tr>\n",
              "      <th>Yes</th>\n",
              "      <td>84</td>\n",
              "      <td>227</td>\n",
              "      <td>311</td>\n",
              "    </tr>\n",
              "    <tr>\n",
              "      <th>All</th>\n",
              "      <td>148</td>\n",
              "      <td>332</td>\n",
              "      <td>480</td>\n",
              "    </tr>\n",
              "  </tbody>\n",
              "</table>\n",
              "</div>"
            ],
            "text/plain": [
              "Loan_Status    N    Y  All\n",
              "Married                   \n",
              "No            64  105  169\n",
              "Yes           84  227  311\n",
              "All          148  332  480"
            ]
          },
          "metadata": {},
          "execution_count": 35
        }
      ]
    },
    {
      "cell_type": "code",
      "metadata": {
        "colab": {
          "base_uri": "https://localhost:8080/"
        },
        "id": "ZCPK67TgV4lq",
        "outputId": "81993a2b-30e7-4b0c-ea78-ebd515f2211d"
      },
      "source": [
        "obs = np.array([ct.iloc[0][0:2].values,ct.iloc[1][0:2].values])\n",
        "chisq_test=stats.chi2_contingency(obs)[0:3]\n",
        "print(\"The chisquare test statistic= \",chisq_test[0], \"\\nDegree of Frredom (df)= \",chisq_test[2],\"\\nP-value= \",chisq_test[1])\n",
        "pvalue=chisq_test[1]\n",
        "if pvalue <=0.05:\n",
        "    print(\"Decision:Reject null hypothesis,we can conclude that there is significant evidence to say that there is relationship between married and loan status\")\n",
        "else:\n",
        "    print(\"Decision:Do not reject null hypothesis,We can conclude that there is significant evidence to say that there is relationship between married and loan status\")"
      ],
      "execution_count": 36,
      "outputs": [
        {
          "output_type": "stream",
          "name": "stdout",
          "text": [
            "The chisquare test statistic=  5.557140235492528 \n",
            "Degree of Frredom (df)=  1 \n",
            "P-value=  0.018405456386355375\n",
            "Decision:Reject null hypothesis,we can conclude that there is significant evidence to say that there is relationship between married and loan status\n"
          ]
        }
      ]
    },
    {
      "cell_type": "code",
      "metadata": {
        "scrolled": true,
        "colab": {
          "base_uri": "https://localhost:8080/",
          "height": 200
        },
        "id": "-nh-KwKAV4lr",
        "outputId": "90ed054a-1c7a-42dc-dab7-9cbdc32a30ec"
      },
      "source": [
        "#We can remove unwanted columns,Loan_ID column is not useful for modelling.\n",
        "cols = [\"Loan_ID\"]\n",
        "data2= data2.drop(columns=cols, axis=1)\n",
        "#data2 set do not having \"Loan_ID\" column\n",
        "data2.head()"
      ],
      "execution_count": 37,
      "outputs": [
        {
          "output_type": "execute_result",
          "data": {
            "text/html": [
              "<div>\n",
              "<style scoped>\n",
              "    .dataframe tbody tr th:only-of-type {\n",
              "        vertical-align: middle;\n",
              "    }\n",
              "\n",
              "    .dataframe tbody tr th {\n",
              "        vertical-align: top;\n",
              "    }\n",
              "\n",
              "    .dataframe thead th {\n",
              "        text-align: right;\n",
              "    }\n",
              "</style>\n",
              "<table border=\"1\" class=\"dataframe\">\n",
              "  <thead>\n",
              "    <tr style=\"text-align: right;\">\n",
              "      <th></th>\n",
              "      <th>Gender</th>\n",
              "      <th>Married</th>\n",
              "      <th>Dependents</th>\n",
              "      <th>Education</th>\n",
              "      <th>Self_Employed</th>\n",
              "      <th>ApplicantIncome</th>\n",
              "      <th>CoapplicantIncome</th>\n",
              "      <th>LoanAmount</th>\n",
              "      <th>Loan_Amount_Term</th>\n",
              "      <th>Credit_History</th>\n",
              "      <th>Property_Area</th>\n",
              "      <th>Loan_Status</th>\n",
              "    </tr>\n",
              "  </thead>\n",
              "  <tbody>\n",
              "    <tr>\n",
              "      <th>1</th>\n",
              "      <td>Male</td>\n",
              "      <td>Yes</td>\n",
              "      <td>1</td>\n",
              "      <td>Graduate</td>\n",
              "      <td>No</td>\n",
              "      <td>4583</td>\n",
              "      <td>1508.0</td>\n",
              "      <td>128.0</td>\n",
              "      <td>360.0</td>\n",
              "      <td>1.0</td>\n",
              "      <td>Rural</td>\n",
              "      <td>N</td>\n",
              "    </tr>\n",
              "    <tr>\n",
              "      <th>2</th>\n",
              "      <td>Male</td>\n",
              "      <td>Yes</td>\n",
              "      <td>0</td>\n",
              "      <td>Graduate</td>\n",
              "      <td>Yes</td>\n",
              "      <td>3000</td>\n",
              "      <td>0.0</td>\n",
              "      <td>66.0</td>\n",
              "      <td>360.0</td>\n",
              "      <td>1.0</td>\n",
              "      <td>Urban</td>\n",
              "      <td>Y</td>\n",
              "    </tr>\n",
              "    <tr>\n",
              "      <th>3</th>\n",
              "      <td>Male</td>\n",
              "      <td>Yes</td>\n",
              "      <td>0</td>\n",
              "      <td>Not Graduate</td>\n",
              "      <td>No</td>\n",
              "      <td>2583</td>\n",
              "      <td>2358.0</td>\n",
              "      <td>120.0</td>\n",
              "      <td>360.0</td>\n",
              "      <td>1.0</td>\n",
              "      <td>Urban</td>\n",
              "      <td>Y</td>\n",
              "    </tr>\n",
              "    <tr>\n",
              "      <th>4</th>\n",
              "      <td>Male</td>\n",
              "      <td>No</td>\n",
              "      <td>0</td>\n",
              "      <td>Graduate</td>\n",
              "      <td>No</td>\n",
              "      <td>6000</td>\n",
              "      <td>0.0</td>\n",
              "      <td>141.0</td>\n",
              "      <td>360.0</td>\n",
              "      <td>1.0</td>\n",
              "      <td>Urban</td>\n",
              "      <td>Y</td>\n",
              "    </tr>\n",
              "    <tr>\n",
              "      <th>5</th>\n",
              "      <td>Male</td>\n",
              "      <td>Yes</td>\n",
              "      <td>2</td>\n",
              "      <td>Graduate</td>\n",
              "      <td>Yes</td>\n",
              "      <td>5417</td>\n",
              "      <td>4196.0</td>\n",
              "      <td>267.0</td>\n",
              "      <td>360.0</td>\n",
              "      <td>1.0</td>\n",
              "      <td>Urban</td>\n",
              "      <td>Y</td>\n",
              "    </tr>\n",
              "  </tbody>\n",
              "</table>\n",
              "</div>"
            ],
            "text/plain": [
              "  Gender Married Dependents     Education Self_Employed  ApplicantIncome  \\\n",
              "1   Male     Yes          1      Graduate            No             4583   \n",
              "2   Male     Yes          0      Graduate           Yes             3000   \n",
              "3   Male     Yes          0  Not Graduate            No             2583   \n",
              "4   Male      No          0      Graduate            No             6000   \n",
              "5   Male     Yes          2      Graduate           Yes             5417   \n",
              "\n",
              "   CoapplicantIncome  LoanAmount  Loan_Amount_Term  Credit_History  \\\n",
              "1             1508.0       128.0             360.0             1.0   \n",
              "2                0.0        66.0             360.0             1.0   \n",
              "3             2358.0       120.0             360.0             1.0   \n",
              "4                0.0       141.0             360.0             1.0   \n",
              "5             4196.0       267.0             360.0             1.0   \n",
              "\n",
              "  Property_Area Loan_Status  \n",
              "1         Rural           N  \n",
              "2         Urban           Y  \n",
              "3         Urban           Y  \n",
              "4         Urban           Y  \n",
              "5         Urban           Y  "
            ]
          },
          "metadata": {},
          "execution_count": 37
        }
      ]
    },
    {
      "cell_type": "markdown",
      "metadata": {
        "id": "SN1TGLVAV4lr"
      },
      "source": [
        "<font color=\"purple\">**We need to do re indexing the Loan_Status names to 0 and 1,because machine learning algorithm can not work with categorical data directly.So categorical data muse to be convered to numbers**"
      ]
    },
    {
      "cell_type": "code",
      "metadata": {
        "colab": {
          "base_uri": "https://localhost:8080/",
          "height": 200
        },
        "id": "HeibATRxV4lr",
        "outputId": "c5712d96-8770-4ac2-b808-8e5c53bdebcd"
      },
      "source": [
        "data2[\"Loan_Status\"]=data2[\"Loan_Status\"].map({\"Y\":1,\"N\":0})\n",
        "data2.head()"
      ],
      "execution_count": 38,
      "outputs": [
        {
          "output_type": "execute_result",
          "data": {
            "text/html": [
              "<div>\n",
              "<style scoped>\n",
              "    .dataframe tbody tr th:only-of-type {\n",
              "        vertical-align: middle;\n",
              "    }\n",
              "\n",
              "    .dataframe tbody tr th {\n",
              "        vertical-align: top;\n",
              "    }\n",
              "\n",
              "    .dataframe thead th {\n",
              "        text-align: right;\n",
              "    }\n",
              "</style>\n",
              "<table border=\"1\" class=\"dataframe\">\n",
              "  <thead>\n",
              "    <tr style=\"text-align: right;\">\n",
              "      <th></th>\n",
              "      <th>Gender</th>\n",
              "      <th>Married</th>\n",
              "      <th>Dependents</th>\n",
              "      <th>Education</th>\n",
              "      <th>Self_Employed</th>\n",
              "      <th>ApplicantIncome</th>\n",
              "      <th>CoapplicantIncome</th>\n",
              "      <th>LoanAmount</th>\n",
              "      <th>Loan_Amount_Term</th>\n",
              "      <th>Credit_History</th>\n",
              "      <th>Property_Area</th>\n",
              "      <th>Loan_Status</th>\n",
              "    </tr>\n",
              "  </thead>\n",
              "  <tbody>\n",
              "    <tr>\n",
              "      <th>1</th>\n",
              "      <td>Male</td>\n",
              "      <td>Yes</td>\n",
              "      <td>1</td>\n",
              "      <td>Graduate</td>\n",
              "      <td>No</td>\n",
              "      <td>4583</td>\n",
              "      <td>1508.0</td>\n",
              "      <td>128.0</td>\n",
              "      <td>360.0</td>\n",
              "      <td>1.0</td>\n",
              "      <td>Rural</td>\n",
              "      <td>0</td>\n",
              "    </tr>\n",
              "    <tr>\n",
              "      <th>2</th>\n",
              "      <td>Male</td>\n",
              "      <td>Yes</td>\n",
              "      <td>0</td>\n",
              "      <td>Graduate</td>\n",
              "      <td>Yes</td>\n",
              "      <td>3000</td>\n",
              "      <td>0.0</td>\n",
              "      <td>66.0</td>\n",
              "      <td>360.0</td>\n",
              "      <td>1.0</td>\n",
              "      <td>Urban</td>\n",
              "      <td>1</td>\n",
              "    </tr>\n",
              "    <tr>\n",
              "      <th>3</th>\n",
              "      <td>Male</td>\n",
              "      <td>Yes</td>\n",
              "      <td>0</td>\n",
              "      <td>Not Graduate</td>\n",
              "      <td>No</td>\n",
              "      <td>2583</td>\n",
              "      <td>2358.0</td>\n",
              "      <td>120.0</td>\n",
              "      <td>360.0</td>\n",
              "      <td>1.0</td>\n",
              "      <td>Urban</td>\n",
              "      <td>1</td>\n",
              "    </tr>\n",
              "    <tr>\n",
              "      <th>4</th>\n",
              "      <td>Male</td>\n",
              "      <td>No</td>\n",
              "      <td>0</td>\n",
              "      <td>Graduate</td>\n",
              "      <td>No</td>\n",
              "      <td>6000</td>\n",
              "      <td>0.0</td>\n",
              "      <td>141.0</td>\n",
              "      <td>360.0</td>\n",
              "      <td>1.0</td>\n",
              "      <td>Urban</td>\n",
              "      <td>1</td>\n",
              "    </tr>\n",
              "    <tr>\n",
              "      <th>5</th>\n",
              "      <td>Male</td>\n",
              "      <td>Yes</td>\n",
              "      <td>2</td>\n",
              "      <td>Graduate</td>\n",
              "      <td>Yes</td>\n",
              "      <td>5417</td>\n",
              "      <td>4196.0</td>\n",
              "      <td>267.0</td>\n",
              "      <td>360.0</td>\n",
              "      <td>1.0</td>\n",
              "      <td>Urban</td>\n",
              "      <td>1</td>\n",
              "    </tr>\n",
              "  </tbody>\n",
              "</table>\n",
              "</div>"
            ],
            "text/plain": [
              "  Gender Married Dependents     Education Self_Employed  ApplicantIncome  \\\n",
              "1   Male     Yes          1      Graduate            No             4583   \n",
              "2   Male     Yes          0      Graduate           Yes             3000   \n",
              "3   Male     Yes          0  Not Graduate            No             2583   \n",
              "4   Male      No          0      Graduate            No             6000   \n",
              "5   Male     Yes          2      Graduate           Yes             5417   \n",
              "\n",
              "   CoapplicantIncome  LoanAmount  Loan_Amount_Term  Credit_History  \\\n",
              "1             1508.0       128.0             360.0             1.0   \n",
              "2                0.0        66.0             360.0             1.0   \n",
              "3             2358.0       120.0             360.0             1.0   \n",
              "4                0.0       141.0             360.0             1.0   \n",
              "5             4196.0       267.0             360.0             1.0   \n",
              "\n",
              "  Property_Area  Loan_Status  \n",
              "1         Rural            0  \n",
              "2         Urban            1  \n",
              "3         Urban            1  \n",
              "4         Urban            1  \n",
              "5         Urban            1  "
            ]
          },
          "metadata": {},
          "execution_count": 38
        }
      ]
    },
    {
      "cell_type": "code",
      "metadata": {
        "scrolled": false,
        "colab": {
          "base_uri": "https://localhost:8080/",
          "height": 236
        },
        "id": "CwO6az0rV4ls",
        "outputId": "af578eea-2a55-4fd4-821d-5c9818463e12"
      },
      "source": [
        "new_data=pd.get_dummies(data2,drop_first=True) # drop_first=True used for remove 1 column from dummies for each variable\n",
        "new_data.head()"
      ],
      "execution_count": 39,
      "outputs": [
        {
          "output_type": "execute_result",
          "data": {
            "text/html": [
              "<div>\n",
              "<style scoped>\n",
              "    .dataframe tbody tr th:only-of-type {\n",
              "        vertical-align: middle;\n",
              "    }\n",
              "\n",
              "    .dataframe tbody tr th {\n",
              "        vertical-align: top;\n",
              "    }\n",
              "\n",
              "    .dataframe thead th {\n",
              "        text-align: right;\n",
              "    }\n",
              "</style>\n",
              "<table border=\"1\" class=\"dataframe\">\n",
              "  <thead>\n",
              "    <tr style=\"text-align: right;\">\n",
              "      <th></th>\n",
              "      <th>ApplicantIncome</th>\n",
              "      <th>CoapplicantIncome</th>\n",
              "      <th>LoanAmount</th>\n",
              "      <th>Loan_Amount_Term</th>\n",
              "      <th>Credit_History</th>\n",
              "      <th>Loan_Status</th>\n",
              "      <th>Gender_Male</th>\n",
              "      <th>Married_Yes</th>\n",
              "      <th>Dependents_1</th>\n",
              "      <th>Dependents_2</th>\n",
              "      <th>Dependents_3+</th>\n",
              "      <th>Education_Not Graduate</th>\n",
              "      <th>Self_Employed_Yes</th>\n",
              "      <th>Property_Area_Semiurban</th>\n",
              "      <th>Property_Area_Urban</th>\n",
              "    </tr>\n",
              "  </thead>\n",
              "  <tbody>\n",
              "    <tr>\n",
              "      <th>1</th>\n",
              "      <td>4583</td>\n",
              "      <td>1508.0</td>\n",
              "      <td>128.0</td>\n",
              "      <td>360.0</td>\n",
              "      <td>1.0</td>\n",
              "      <td>0</td>\n",
              "      <td>1</td>\n",
              "      <td>1</td>\n",
              "      <td>1</td>\n",
              "      <td>0</td>\n",
              "      <td>0</td>\n",
              "      <td>0</td>\n",
              "      <td>0</td>\n",
              "      <td>0</td>\n",
              "      <td>0</td>\n",
              "    </tr>\n",
              "    <tr>\n",
              "      <th>2</th>\n",
              "      <td>3000</td>\n",
              "      <td>0.0</td>\n",
              "      <td>66.0</td>\n",
              "      <td>360.0</td>\n",
              "      <td>1.0</td>\n",
              "      <td>1</td>\n",
              "      <td>1</td>\n",
              "      <td>1</td>\n",
              "      <td>0</td>\n",
              "      <td>0</td>\n",
              "      <td>0</td>\n",
              "      <td>0</td>\n",
              "      <td>1</td>\n",
              "      <td>0</td>\n",
              "      <td>1</td>\n",
              "    </tr>\n",
              "    <tr>\n",
              "      <th>3</th>\n",
              "      <td>2583</td>\n",
              "      <td>2358.0</td>\n",
              "      <td>120.0</td>\n",
              "      <td>360.0</td>\n",
              "      <td>1.0</td>\n",
              "      <td>1</td>\n",
              "      <td>1</td>\n",
              "      <td>1</td>\n",
              "      <td>0</td>\n",
              "      <td>0</td>\n",
              "      <td>0</td>\n",
              "      <td>1</td>\n",
              "      <td>0</td>\n",
              "      <td>0</td>\n",
              "      <td>1</td>\n",
              "    </tr>\n",
              "    <tr>\n",
              "      <th>4</th>\n",
              "      <td>6000</td>\n",
              "      <td>0.0</td>\n",
              "      <td>141.0</td>\n",
              "      <td>360.0</td>\n",
              "      <td>1.0</td>\n",
              "      <td>1</td>\n",
              "      <td>1</td>\n",
              "      <td>0</td>\n",
              "      <td>0</td>\n",
              "      <td>0</td>\n",
              "      <td>0</td>\n",
              "      <td>0</td>\n",
              "      <td>0</td>\n",
              "      <td>0</td>\n",
              "      <td>1</td>\n",
              "    </tr>\n",
              "    <tr>\n",
              "      <th>5</th>\n",
              "      <td>5417</td>\n",
              "      <td>4196.0</td>\n",
              "      <td>267.0</td>\n",
              "      <td>360.0</td>\n",
              "      <td>1.0</td>\n",
              "      <td>1</td>\n",
              "      <td>1</td>\n",
              "      <td>1</td>\n",
              "      <td>0</td>\n",
              "      <td>1</td>\n",
              "      <td>0</td>\n",
              "      <td>0</td>\n",
              "      <td>1</td>\n",
              "      <td>0</td>\n",
              "      <td>1</td>\n",
              "    </tr>\n",
              "  </tbody>\n",
              "</table>\n",
              "</div>"
            ],
            "text/plain": [
              "   ApplicantIncome  CoapplicantIncome  LoanAmount  Loan_Amount_Term  \\\n",
              "1             4583             1508.0       128.0             360.0   \n",
              "2             3000                0.0        66.0             360.0   \n",
              "3             2583             2358.0       120.0             360.0   \n",
              "4             6000                0.0       141.0             360.0   \n",
              "5             5417             4196.0       267.0             360.0   \n",
              "\n",
              "   Credit_History  Loan_Status  Gender_Male  Married_Yes  Dependents_1  \\\n",
              "1             1.0            0            1            1             1   \n",
              "2             1.0            1            1            1             0   \n",
              "3             1.0            1            1            1             0   \n",
              "4             1.0            1            1            0             0   \n",
              "5             1.0            1            1            1             0   \n",
              "\n",
              "   Dependents_2  Dependents_3+  Education_Not Graduate  Self_Employed_Yes  \\\n",
              "1             0              0                       0                  0   \n",
              "2             0              0                       0                  1   \n",
              "3             0              0                       1                  0   \n",
              "4             0              0                       0                  0   \n",
              "5             1              0                       0                  1   \n",
              "\n",
              "   Property_Area_Semiurban  Property_Area_Urban  \n",
              "1                        0                    0  \n",
              "2                        0                    1  \n",
              "3                        0                    1  \n",
              "4                        0                    1  \n",
              "5                        0                    1  "
            ]
          },
          "metadata": {},
          "execution_count": 39
        }
      ]
    },
    {
      "cell_type": "code",
      "metadata": {
        "colab": {
          "base_uri": "https://localhost:8080/"
        },
        "id": "6TUpc11IV4ls",
        "outputId": "2360690c-1e32-4323-995f-fa4d190ab637"
      },
      "source": [
        "print(\"Data columns with null values:\\n\",new_data.isnull().sum())"
      ],
      "execution_count": 40,
      "outputs": [
        {
          "output_type": "stream",
          "name": "stdout",
          "text": [
            "Data columns with null values:\n",
            " ApplicantIncome            0\n",
            "CoapplicantIncome          0\n",
            "LoanAmount                 0\n",
            "Loan_Amount_Term           0\n",
            "Credit_History             0\n",
            "Loan_Status                0\n",
            "Gender_Male                0\n",
            "Married_Yes                0\n",
            "Dependents_1               0\n",
            "Dependents_2               0\n",
            "Dependents_3+              0\n",
            "Education_Not Graduate     0\n",
            "Self_Employed_Yes          0\n",
            "Property_Area_Semiurban    0\n",
            "Property_Area_Urban        0\n",
            "dtype: int64\n"
          ]
        }
      ]
    },
    {
      "cell_type": "markdown",
      "metadata": {
        "id": "6Hzs9bmLV4ls"
      },
      "source": [
        "<font color=\"purple\">Now the \"new_data\" set has totally clean data."
      ]
    },
    {
      "cell_type": "code",
      "metadata": {
        "colab": {
          "base_uri": "https://localhost:8080/"
        },
        "id": "GdQZ41YNV4ls",
        "outputId": "435eed60-2151-4d88-9a06-953f345390a9"
      },
      "source": [
        "#Storing the columns names\n",
        "columns_list=list(new_data.columns)\n",
        "print(columns_list)"
      ],
      "execution_count": 41,
      "outputs": [
        {
          "output_type": "stream",
          "name": "stdout",
          "text": [
            "['ApplicantIncome', 'CoapplicantIncome', 'LoanAmount', 'Loan_Amount_Term', 'Credit_History', 'Loan_Status', 'Gender_Male', 'Married_Yes', 'Dependents_1', 'Dependents_2', 'Dependents_3+', 'Education_Not Graduate', 'Self_Employed_Yes', 'Property_Area_Semiurban', 'Property_Area_Urban']\n"
          ]
        }
      ]
    },
    {
      "cell_type": "code",
      "metadata": {
        "colab": {
          "base_uri": "https://localhost:8080/"
        },
        "id": "OUDbWSsbV4lt",
        "outputId": "a6a892c2-cff1-4598-e3cc-332620f94360"
      },
      "source": [
        "#Seperating the input columns from data\n",
        "features=list(set(columns_list)-set([\"Loan_Status\"]))\n",
        "print(features)"
      ],
      "execution_count": 42,
      "outputs": [
        {
          "output_type": "stream",
          "name": "stdout",
          "text": [
            "['Dependents_2', 'Gender_Male', 'LoanAmount', 'CoapplicantIncome', 'Credit_History', 'Married_Yes', 'Education_Not Graduate', 'Property_Area_Urban', 'Self_Employed_Yes', 'ApplicantIncome', 'Loan_Amount_Term', 'Dependents_1', 'Dependents_3+', 'Property_Area_Semiurban']\n"
          ]
        }
      ]
    },
    {
      "cell_type": "code",
      "metadata": {
        "colab": {
          "base_uri": "https://localhost:8080/"
        },
        "id": "FZWilJ5EV4lt",
        "outputId": "0db065d7-edd4-431d-f9a1-c5b222132a59"
      },
      "source": [
        "#Storing the output values in y\n",
        "y=new_data[\"Loan_Status\"].values\n",
        "print(y)"
      ],
      "execution_count": 43,
      "outputs": [
        {
          "output_type": "stream",
          "name": "stdout",
          "text": [
            "[0 1 1 1 1 1 0 1 0 1 1 0 1 1 0 0 0 1 0 1 1 1 0 0 0 1 0 1 1 1 0 1 1 1 1 0 1\n",
            " 1 1 0 0 0 1 1 0 1 1 1 1 0 0 0 0 1 1 0 1 1 1 1 0 0 0 0 1 0 1 1 1 1 1 1 1 1\n",
            " 1 1 1 1 1 1 1 1 1 1 0 1 1 1 1 0 1 1 1 1 1 0 1 1 1 1 0 0 1 0 0 0 1 1 1 1 1\n",
            " 1 1 0 1 0 1 0 0 1 1 1 1 1 0 0 1 1 0 1 0 1 0 1 0 1 1 0 1 0 0 1 0 1 1 0 1 1\n",
            " 0 0 1 1 0 1 0 1 1 1 1 1 1 1 1 0 0 0 1 1 1 1 0 1 0 1 1 1 0 1 1 1 1 1 1 1 1\n",
            " 1 0 1 1 1 0 1 1 1 1 0 0 1 1 0 1 0 0 0 1 0 1 1 1 1 1 1 1 1 1 1 1 1 1 1 1 0\n",
            " 1 1 1 1 0 1 1 1 1 0 1 1 1 1 0 0 0 1 1 1 1 0 0 1 1 1 1 1 0 1 1 1 0 1 1 0 1\n",
            " 1 1 1 1 0 0 1 1 1 1 1 1 0 1 0 1 1 0 0 1 0 1 1 1 0 0 1 0 1 1 1 0 1 1 0 1 1\n",
            " 1 1 0 1 1 1 1 1 1 1 0 1 1 0 0 0 1 1 0 1 1 1 0 0 0 0 1 0 1 0 0 1 1 1 1 1 1\n",
            " 0 1 1 1 1 0 1 1 1 0 1 1 1 1 1 1 1 0 0 0 1 1 1 1 0 1 0 1 1 0 1 0 0 1 0 1 1\n",
            " 1 1 1 1 1 1 1 1 1 0 0 1 0 1 1 0 1 1 1 0 1 1 1 1 1 1 1 0 1 1 0 0 1 1 0 0 1\n",
            " 1 1 1 1 1 1 1 1 1 0 1 1 1 0 1 1 0 1 1 0 1 0 1 1 0 0 1 1 1 1 1 1 1 1 0 1 0\n",
            " 0 0 1 1 0 0 1 1 1 1 0 1 0 0 1 1 0 1 0 1 1 1 0 1 1 1 1 1 1 1 1 1 1 1 1 0]\n"
          ]
        }
      ]
    },
    {
      "cell_type": "code",
      "metadata": {
        "scrolled": false,
        "colab": {
          "base_uri": "https://localhost:8080/"
        },
        "id": "f_oPUTWVV4lt",
        "outputId": "c277265b-5760-46d9-aaad-fc5dc74f72eb"
      },
      "source": [
        "#Storing the values from input features \n",
        "x=new_data[features].values\n",
        "print(x)"
      ],
      "execution_count": 44,
      "outputs": [
        {
          "output_type": "stream",
          "name": "stdout",
          "text": [
            "[[  0.   1. 128. ...   1.   0.   0.]\n",
            " [  0.   1.  66. ...   0.   0.   0.]\n",
            " [  0.   1. 120. ...   0.   0.   0.]\n",
            " ...\n",
            " [  0.   1. 253. ...   1.   0.   0.]\n",
            " [  1.   1. 187. ...   0.   0.   0.]\n",
            " [  0.   0. 133. ...   0.   0.   1.]]\n"
          ]
        }
      ]
    },
    {
      "cell_type": "markdown",
      "metadata": {
        "id": "QTGB545xV4lu"
      },
      "source": [
        "### <font color='red'> 1)Logistic Regression Modelling"
      ]
    },
    {
      "cell_type": "markdown",
      "metadata": {
        "id": "sUlPaJJpV4lu"
      },
      "source": [
        "<font color=\"purple\">Logistic regression is a supervised learning classification algorithm used to predict the probability of a target variable(Loan status). The nature of target or dependent variable(Loan status) is dichotomous, which means there would be only two possible classes.\n",
        "\n",
        "In simple words, the dependent variable(Loan status) is binary in nature having data coded as either 1 (yes) or 0 (no).\n",
        "\n"
      ]
    },
    {
      "cell_type": "markdown",
      "metadata": {
        "id": "H6LMEp6wV4lu"
      },
      "source": [
        "<font color='blue'>**Splitting the data into train and test**"
      ]
    },
    {
      "cell_type": "code",
      "metadata": {
        "id": "mgpniHKOV4lu"
      },
      "source": [
        "from sklearn.model_selection import train_test_split\n",
        "x_train, x_test, y_train, y_test = train_test_split(x,y,random_state=6 ,test_size =0.20)"
      ],
      "execution_count": 45,
      "outputs": []
    },
    {
      "cell_type": "code",
      "metadata": {
        "colab": {
          "base_uri": "https://localhost:8080/"
        },
        "id": "taJ8GvVhV4lv",
        "outputId": "79b4ea80-9935-40d8-a345-abbec1f79d5e"
      },
      "source": [
        "#To check dimensions \n",
        "print(x_train.shape)\n",
        "print(x_test.shape)\n",
        "print(y_train.shape)\n",
        "print(y_test.shape)"
      ],
      "execution_count": 46,
      "outputs": [
        {
          "output_type": "stream",
          "name": "stdout",
          "text": [
            "(384, 14)\n",
            "(96, 14)\n",
            "(384,)\n",
            "(96,)\n"
          ]
        }
      ]
    },
    {
      "cell_type": "code",
      "metadata": {
        "colab": {
          "base_uri": "https://localhost:8080/"
        },
        "id": "UKXHemOMV4lv",
        "outputId": "862b8dc2-27b0-4b42-bb56-0b2683681f7c"
      },
      "source": [
        "from sklearn.linear_model import LogisticRegression\n",
        "# Instantiate the classifier\n",
        "log_model = LogisticRegression()\n",
        "# Train classifier\n",
        "log_model.fit(x_train, y_train)"
      ],
      "execution_count": 47,
      "outputs": [
        {
          "output_type": "execute_result",
          "data": {
            "text/plain": [
              "LogisticRegression(C=1.0, class_weight=None, dual=False, fit_intercept=True,\n",
              "                   intercept_scaling=1, l1_ratio=None, max_iter=100,\n",
              "                   multi_class='auto', n_jobs=None, penalty='l2',\n",
              "                   random_state=None, solver='lbfgs', tol=0.0001, verbose=0,\n",
              "                   warm_start=False)"
            ]
          },
          "metadata": {},
          "execution_count": 47
        }
      ]
    },
    {
      "cell_type": "code",
      "metadata": {
        "colab": {
          "base_uri": "https://localhost:8080/"
        },
        "id": "B9mhwK3QV4lv",
        "outputId": "5ff40624-04cb-499d-c423-40056c8f937d"
      },
      "source": [
        "from sklearn.metrics import accuracy_score\n",
        "y_pred = log_model.predict(x_test)\n",
        "logistic_accuracy=accuracy_score(y_test,y_pred)\n",
        "print(logistic_accuracy)"
      ],
      "execution_count": 48,
      "outputs": [
        {
          "output_type": "stream",
          "name": "stdout",
          "text": [
            "0.8333333333333334\n"
          ]
        }
      ]
    },
    {
      "cell_type": "code",
      "metadata": {
        "colab": {
          "base_uri": "https://localhost:8080/"
        },
        "id": "X9DqfvaPV4lv",
        "outputId": "bdce22bd-71ca-485f-9111-58de72a50329"
      },
      "source": [
        "print('Intercept : ', log_model.intercept_)\n",
        "print('Coeff     : ', log_model.coef_)"
      ],
      "execution_count": 49,
      "outputs": [
        {
          "output_type": "stream",
          "name": "stdout",
          "text": [
            "Intercept :  [-0.0361386]\n",
            "Coeff     :  [[ 1.90572193e-01  1.52330371e-01 -2.64132047e-03 -5.83055162e-05\n",
            "   2.87074558e+00  4.57722806e-01 -5.15740087e-01 -1.09379123e-01\n",
            "  -8.78270576e-02  3.15215831e-06 -4.55797101e-03 -5.26836975e-01\n",
            "  -1.41846818e-02  7.60906012e-01]]\n"
          ]
        }
      ]
    },
    {
      "cell_type": "code",
      "metadata": {
        "id": "OmiiVkxnV4lw"
      },
      "source": [
        "Confusion_Matrix1=metrics.confusion_matrix(y_test, y_pred)"
      ],
      "execution_count": 50,
      "outputs": []
    },
    {
      "cell_type": "code",
      "metadata": {
        "colab": {
          "base_uri": "https://localhost:8080/",
          "height": 371
        },
        "id": "dKV0mQISV4lw",
        "outputId": "e092a851-acfa-4d2d-a3fc-adee530d9464"
      },
      "source": [
        "sns.set(rc = {'figure.figsize':(6,5)})\n",
        "sns.heatmap(Confusion_Matrix1, annot=True, fmt='d',cbar=False,cmap='YlGnBu')\n",
        "plt.xlabel('Predicted Values')\n",
        "plt.ylabel('Actual Values')\n",
        "plt.title('Actual vs. Predicted Confusion Matrix')"
      ],
      "execution_count": 51,
      "outputs": [
        {
          "output_type": "execute_result",
          "data": {
            "text/plain": [
              "Text(0.5, 1.0, 'Actual vs. Predicted Confusion Matrix')"
            ]
          },
          "metadata": {},
          "execution_count": 51
        },
        {
          "output_type": "display_data",
          "data": {
            "image/png": "[encoded data removed]",
            "text/plain": [
              "<Figure size 432x360 with 1 Axes>"
            ]
          },
          "metadata": {}
        }
      ]
    },
    {
      "cell_type": "code",
      "metadata": {
        "colab": {
          "base_uri": "https://localhost:8080/"
        },
        "id": "ZZe6qBDKV4lw",
        "outputId": "5960d020-0822-41f9-9f2f-b3cae6e33889"
      },
      "source": [
        "tn,fp,fn,tp=confusion_matrix(y_test, y_pred).ravel()\n",
        "print(\"True Negative(TN) : \",tn)\n",
        "print(\"False Positive(FP) : \",fp)\n",
        "print(\"False Negative(FN) : \",fn)\n",
        "print(\"True Positive(TP) : \",tp)"
      ],
      "execution_count": 52,
      "outputs": [
        {
          "output_type": "stream",
          "name": "stdout",
          "text": [
            "True Negative(TN) :  12\n",
            "False Positive(FP) :  14\n",
            "False Negative(FN) :  2\n",
            "True Positive(TP) :  68\n"
          ]
        }
      ]
    },
    {
      "cell_type": "code",
      "metadata": {
        "colab": {
          "base_uri": "https://localhost:8080/"
        },
        "id": "JK7qnsATV4lx",
        "outputId": "fba942af-8fbd-4e6e-ee4b-342dbd7fc265"
      },
      "source": [
        "print(classification_report(y_test, y_pred))"
      ],
      "execution_count": 53,
      "outputs": [
        {
          "output_type": "stream",
          "name": "stdout",
          "text": [
            "              precision    recall  f1-score   support\n",
            "\n",
            "           0       0.86      0.46      0.60        26\n",
            "           1       0.83      0.97      0.89        70\n",
            "\n",
            "    accuracy                           0.83        96\n",
            "   macro avg       0.84      0.72      0.75        96\n",
            "weighted avg       0.84      0.83      0.81        96\n",
            "\n"
          ]
        }
      ]
    },
    {
      "cell_type": "markdown",
      "metadata": {
        "id": "H7WqpvtyV4ly"
      },
      "source": [
        "<font color=\"gray\">**>Recall:It gives us an idea about when it's actual yes(1) ,how often does it predict yes**\n",
        "\n",
        "Sensitivity or TPR or Hit rate=TP/(TP+FN) =0.97\n",
        "\n",
        "Specificity or TNR =TN/(TN+FP) =0.46\n",
        " \n",
        " \n",
        " \n",
        "\n",
        "\n",
        "**>Precision: It tells us about when it predicts yes , how often is it correct**\n",
        "\n",
        "Positive Predictive Value(Precision) = TP/(TP+FP) =0.83\n",
        "\n",
        "Negative Predictive Value = TN/(TN+FN)=0.86\n",
        "\n",
        "\n",
        "\n",
        "\n",
        "**>Accuracy : the proportion of the total number of predictions that were correct**\n",
        "\n",
        "Accuracy = (TN+TP)/(TN+FP+FN+TP)=0.83\n",
        "\n",
        "\n",
        "\n",
        "\n",
        "**>Error rate  = incorrect predictions / total predictions**\n",
        "\n",
        "Error rate = (FP+FN)/(TN+FP+FN+TP) = 1-Accuracy=0.17\n",
        "\n",
        "\n",
        "\n",
        "**>False Alarm**\n",
        "\n",
        "FP : Type 1 error\n",
        "\n",
        "FN : Type 2 error\n",
        "\n",
        "\n",
        "\n",
        "\n",
        "**Note:**\n",
        "\n",
        "*High recall value, low precision value: This means that most of the positive examples are correctly recognized (low FN) but there are a lot of false positives.*\n",
        "\n",
        "\n",
        "*Low recall value, high precision value: This shows that we miss a lot of positive examples (high FN) but those we predict as positive are indeed positive (low FP)*\n",
        "\n",
        "\n",
        "False positive rate(FPR) =FP/(TN + FP)\n",
        "\n",
        "FPR= 1- Specificity\n"
      ]
    },
    {
      "cell_type": "markdown",
      "metadata": {
        "id": "HeujHwpdV4ly"
      },
      "source": [
        "### <font color='blue'> * ROC Curve for training dataset"
      ]
    },
    {
      "cell_type": "markdown",
      "metadata": {
        "id": "6vfXOIjeV4ly"
      },
      "source": [
        "<font color=\"purple\">An ROC curve (receiver operating characteristic curve) is a graph showing the performance of a classification model at all classification thresholds. This curve plots two parameters:\n",
        "\n",
        "    * True Positive Rate (Sensitivity)\n",
        "     \n",
        "    * False Positive Rate ( 1- Speficity)"
      ]
    },
    {
      "cell_type": "code",
      "metadata": {
        "id": "ETqm4NgQV4lz"
      },
      "source": [
        "y_predict_train=log_model.predict(x_train)\n"
      ],
      "execution_count": null,
      "outputs": []
    },
    {
      "cell_type": "code",
      "metadata": {
        "id": "LqUTkVwBV4lz"
      },
      "source": [
        "y_prob_train=log_model.predict_proba(x_train)\n"
      ],
      "execution_count": null,
      "outputs": []
    },
    {
      "cell_type": "markdown",
      "metadata": {
        "id": "Ya6A8WuKV4lz"
      },
      "source": [
        "<font color=\"purple\">**The first column indicates the predicted probability of class 0, and the second column indicates the predicted probability of class 1**"
      ]
    },
    {
      "cell_type": "markdown",
      "metadata": {
        "id": "_wYXIXBGV4l0"
      },
      "source": [
        "<font color=\"purple\"> **Let us consider the second column indicates the predicted probability of class 1**"
      ]
    },
    {
      "cell_type": "code",
      "metadata": {
        "id": "pR6bRvpRV4l0"
      },
      "source": [
        "y_prob_train=log_model.predict_proba(x_train)[:,1]\n"
      ],
      "execution_count": null,
      "outputs": []
    },
    {
      "cell_type": "code",
      "metadata": {
        "id": "WlLYgMEfV4l2"
      },
      "source": [
        "#import necessary libraries for roc\n",
        "from sklearn.metrics import roc_auc_score\n",
        "from sklearn.metrics import roc_curve,auc\n",
        "log_ROC_AUC1=roc_auc_score(y_train,y_predict_train)\n",
        "fpr1,tpr1,thresholds1=roc_curve(y_train,y_prob_train)\n",
        "roc_auc1=auc(fpr1,tpr1)"
      ],
      "execution_count": 57,
      "outputs": []
    },
    {
      "cell_type": "code",
      "metadata": {
        "scrolled": false,
        "colab": {
          "base_uri": "https://localhost:8080/",
          "height": 355
        },
        "id": "pfigo6bKV4l2",
        "outputId": "1b021a11-df39-4909-fb7b-674b28cf54f2"
      },
      "source": [
        "# For default thershold value = 0.5\n",
        "plt.figure(figsize=(10,5))\n",
        "plt.plot(fpr1,tpr1,color=\"Blue\",label=\"ROC cureve(area=%0.2f)\"%roc_auc1)\n",
        "plt.plot([0,1],[0,1],\"r--\") #for this line auc = 0.50\n",
        "plt.xlim([0.0,1.05])   \n",
        "plt.ylim([0.0,1.05])\n",
        "plt.xlabel(\"False positive Rate (1- Specificity)\")\n",
        "plt.ylabel(\"True Positive Rate (Sensitivity)\")\n",
        "plt.title(\"Receiver Operating  Characteristic\")\n",
        "plt.legend(loc=\"lower right\")\n",
        "plt.show()"
      ],
      "execution_count": 58,
      "outputs": [
        {
          "output_type": "display_data",
          "data": {
            "image/png": "[encoded data removed]",
            "text/plain": [
              "<Figure size 720x360 with 1 Axes>"
            ]
          },
          "metadata": {}
        }
      ]
    },
    {
      "cell_type": "markdown",
      "metadata": {
        "id": "qW4Fyj5pV4l3"
      },
      "source": [
        "<font color=\"purple\">**The area under the ROC curve (AUC) is 0.79,\n",
        "Which is Good enough to say that model is good to use.**\n"
      ]
    },
    {
      "cell_type": "markdown",
      "metadata": {
        "id": "Om3ZILiFV4l3"
      },
      "source": [
        "<a href=\"https://miro.medium.com/max/606/1*F4go8Ak0ftbX5AvaaC9-WA.png\">more information about AUC value</a>"
      ]
    },
    {
      "cell_type": "markdown",
      "metadata": {
        "id": "BT_x3yBZV4l3"
      },
      "source": [
        "<font color='blue'>**ROC Curve for test dataset**"
      ]
    },
    {
      "cell_type": "code",
      "metadata": {
        "id": "3e3n9dfBV4l3"
      },
      "source": [
        "y_predict_test=log_model.predict(x_test)\n",
        "y_prob_test=log_model.predict_proba(x_test)[:,1] \n",
        "from sklearn.metrics import roc_auc_score\n",
        "from sklearn.metrics import roc_curve,auc\n",
        "log_ROC_AUC1=roc_auc_score(y_test,y_predict_test)\n",
        "fpr1,tpr1,thresholds1=roc_curve(y_test,y_prob_test)\n",
        "roc_auc1=auc(fpr1,tpr1)"
      ],
      "execution_count": 59,
      "outputs": []
    },
    {
      "cell_type": "code",
      "metadata": {
        "scrolled": true,
        "colab": {
          "base_uri": "https://localhost:8080/",
          "height": 355
        },
        "id": "3rQ8qxtqV4l4",
        "outputId": "00720864-830f-4514-a60e-a7b5deed2d2f"
      },
      "source": [
        "# For default thershold value = 0.5\n",
        "plt.figure(figsize=(10,5))\n",
        "plt.plot(fpr1,tpr1,color=\"Blue\",label=\"ROC cureve(area=%0.2f)\"%roc_auc1)\n",
        "plt.plot([0,1],[0,1],\"r--\") #for this line auc = 0.50\n",
        "plt.xlim([0.0,1.05])   \n",
        "plt.ylim([0.0,1.05])\n",
        "plt.xlabel(\"False positive Rate (1- Specificity)\")\n",
        "plt.ylabel(\"True Positive Rate (Sensitivity)\")\n",
        "plt.title(\"Receiver Operating  Characteristic\")\n",
        "plt.legend(loc=\"lower right\")\n",
        "plt.show()"
      ],
      "execution_count": 60,
      "outputs": [
        {
          "output_type": "display_data",
          "data": {
            "image/png": "[encoded data removed]",
            "text/plain": [
              "<Figure size 720x360 with 1 Axes>"
            ]
          },
          "metadata": {}
        }
      ]
    },
    {
      "cell_type": "markdown",
      "metadata": {
        "id": "WMV7RYQnV4l4"
      },
      "source": [
        "<font color=\"purple\">**The area under the ROC curve (AUC) is 0.79,\n",
        "Which is Good enough to say that model is good to use.**\n"
      ]
    },
    {
      "cell_type": "markdown",
      "metadata": {
        "id": "yk3bvgJRV4l4"
      },
      "source": [
        "<font color='blue'>**Accuracy check for different Threshold value**"
      ]
    },
    {
      "cell_type": "code",
      "metadata": {
        "colab": {
          "base_uri": "https://localhost:8080/"
        },
        "id": "qIWNa2WdV4l5",
        "outputId": "0c443645-0536-4650-9a5d-2d6d353d18de"
      },
      "source": [
        "y_prob_test=log_model.predict_proba(x_test)[:,1]\n",
        "from sklearn.preprocessing import binarize\n",
        "y_predict_class1=binarize(y_prob_test.reshape(1,-1),0.35)[0]  #Threshold value consider as 0.35\n",
        "y_predict_class1"
      ],
      "execution_count": 61,
      "outputs": [
        {
          "output_type": "execute_result",
          "data": {
            "text/plain": [
              "array([1., 1., 1., 0., 1., 1., 0., 1., 1., 1., 1., 1., 1., 0., 1., 1., 1.,\n",
              "       1., 1., 1., 1., 1., 1., 1., 1., 1., 1., 1., 1., 1., 1., 1., 1., 1.,\n",
              "       1., 1., 1., 0., 1., 1., 0., 1., 1., 0., 1., 1., 1., 1., 1., 1., 1.,\n",
              "       1., 1., 1., 0., 1., 1., 0., 1., 1., 1., 1., 1., 1., 1., 0., 0., 1.,\n",
              "       1., 1., 1., 1., 1., 1., 1., 1., 1., 1., 0., 1., 0., 0., 1., 1., 1.,\n",
              "       1., 1., 1., 1., 1., 1., 1., 1., 1., 1., 1.])"
            ]
          },
          "metadata": {},
          "execution_count": 61
        }
      ]
    },
    {
      "cell_type": "code",
      "metadata": {
        "colab": {
          "base_uri": "https://localhost:8080/"
        },
        "id": "_TOIeNAFV4l5",
        "outputId": "405fa97e-a6cd-4261-ee50-48e39a0c7485"
      },
      "source": [
        "#Converting the array from float datatype to integer  data type\n",
        "y_predict_class1=y_predict_class1.astype(int)\n",
        "y_predict_class1"
      ],
      "execution_count": 62,
      "outputs": [
        {
          "output_type": "execute_result",
          "data": {
            "text/plain": [
              "array([1, 1, 1, 0, 1, 1, 0, 1, 1, 1, 1, 1, 1, 0, 1, 1, 1, 1, 1, 1, 1, 1,\n",
              "       1, 1, 1, 1, 1, 1, 1, 1, 1, 1, 1, 1, 1, 1, 1, 0, 1, 1, 0, 1, 1, 0,\n",
              "       1, 1, 1, 1, 1, 1, 1, 1, 1, 1, 0, 1, 1, 0, 1, 1, 1, 1, 1, 1, 1, 0,\n",
              "       0, 1, 1, 1, 1, 1, 1, 1, 1, 1, 1, 1, 0, 1, 0, 0, 1, 1, 1, 1, 1, 1,\n",
              "       1, 1, 1, 1, 1, 1, 1, 1])"
            ]
          },
          "metadata": {},
          "execution_count": 62
        }
      ]
    },
    {
      "cell_type": "code",
      "metadata": {
        "colab": {
          "base_uri": "https://localhost:8080/"
        },
        "id": "loWZdtMtV4l5",
        "outputId": "fdce8687-dbdc-4dec-f312-fb7b6468f66f"
      },
      "source": [
        "from sklearn.metrics import confusion_matrix\n",
        "Confusion_Matrix=confusion_matrix(y_test, y_predict_class1)  # This is confusion matrix for test data set\n",
        "Confusion_Matrix"
      ],
      "execution_count": 63,
      "outputs": [
        {
          "output_type": "execute_result",
          "data": {
            "text/plain": [
              "array([[11, 15],\n",
              "       [ 2, 68]])"
            ]
          },
          "metadata": {},
          "execution_count": 63
        }
      ]
    },
    {
      "cell_type": "code",
      "metadata": {
        "colab": {
          "base_uri": "https://localhost:8080/"
        },
        "id": "_INTwuBgV4l6",
        "outputId": "72cb5aa7-90cd-4226-cc89-b9f54e0b3395"
      },
      "source": [
        "tn,fp,fn,tp=confusion_matrix(y_test, y_predict_class1).ravel()\n",
        "print(\"True Negative : \",tn)\n",
        "print(\"False Positive : \",fp)\n",
        "print(\"False Negative : \",fn)\n",
        "print(\"True Positive : \",tp)"
      ],
      "execution_count": 64,
      "outputs": [
        {
          "output_type": "stream",
          "name": "stdout",
          "text": [
            "True Negative :  11\n",
            "False Positive :  15\n",
            "False Negative :  2\n",
            "True Positive :  68\n"
          ]
        }
      ]
    },
    {
      "cell_type": "code",
      "metadata": {
        "colab": {
          "base_uri": "https://localhost:8080/"
        },
        "id": "6s-f2ttLV4l6",
        "outputId": "bfb9581a-6a35-43d9-d3e6-8dc8ea8ac199"
      },
      "source": [
        "from sklearn.metrics import classification_report\n",
        "print(classification_report(y_test,y_predict_class1))"
      ],
      "execution_count": 65,
      "outputs": [
        {
          "output_type": "stream",
          "name": "stdout",
          "text": [
            "              precision    recall  f1-score   support\n",
            "\n",
            "           0       0.85      0.42      0.56        26\n",
            "           1       0.82      0.97      0.89        70\n",
            "\n",
            "    accuracy                           0.82        96\n",
            "   macro avg       0.83      0.70      0.73        96\n",
            "weighted avg       0.83      0.82      0.80        96\n",
            "\n"
          ]
        }
      ]
    },
    {
      "cell_type": "markdown",
      "metadata": {
        "id": "Uaxfmrf3V4l6"
      },
      "source": [
        "<font color='blue'>**Calculating Optimal Threshold value**"
      ]
    },
    {
      "cell_type": "code",
      "metadata": {
        "id": "oD8hr70oV4l7"
      },
      "source": [
        "from sklearn.metrics import roc_curve,auc"
      ],
      "execution_count": 66,
      "outputs": []
    },
    {
      "cell_type": "code",
      "metadata": {
        "id": "y3USJ3aGV4l7"
      },
      "source": [
        "fpr,tpr,thresholds=roc_curve(y_train,y_prob_train)\n",
        "roc_auc=auc(fpr,tpr)\n",
        "#tpr\n",
        "#fpr"
      ],
      "execution_count": 67,
      "outputs": []
    },
    {
      "cell_type": "code",
      "metadata": {
        "colab": {
          "base_uri": "https://localhost:8080/"
        },
        "id": "ffzCqHbeV4l7",
        "outputId": "d5838a14-8876-40be-afe6-d14698e62287"
      },
      "source": [
        "len(tpr)"
      ],
      "execution_count": 68,
      "outputs": [
        {
          "output_type": "execute_result",
          "data": {
            "text/plain": [
              "116"
            ]
          },
          "metadata": {},
          "execution_count": 68
        }
      ]
    },
    {
      "cell_type": "code",
      "metadata": {
        "colab": {
          "base_uri": "https://localhost:8080/"
        },
        "id": "XLFxnemGV4l8",
        "outputId": "806fb612-de4a-4d0e-c595-94ea25ddeb53"
      },
      "source": [
        "print(\"Area under the Roc curve :%f\"%roc_auc) # for threshold value = 0.50"
      ],
      "execution_count": 69,
      "outputs": [
        {
          "output_type": "stream",
          "name": "stdout",
          "text": [
            "Area under the Roc curve :0.793549\n"
          ]
        }
      ]
    },
    {
      "cell_type": "code",
      "metadata": {
        "id": "xd-FUJwYV4l8"
      },
      "source": [
        "import numpy as np\n",
        "i=np.arange(len(tpr))  \n",
        "roc=pd.DataFrame({\"fpr\":pd.Series(fpr,index=i),\"tpr\":pd.Series(tpr,index=i),\"1-fpr\":pd.Series(1-fpr,index=i),\n",
        "                  \"tf\":pd.Series(tpr-(1-fpr),index=i),\"Thresholds\":pd.Series(thresholds,index=i)})\n"
      ],
      "execution_count": null,
      "outputs": []
    },
    {
      "cell_type": "code",
      "metadata": {
        "colab": {
          "base_uri": "https://localhost:8080/",
          "height": 78
        },
        "id": "L29Vou39V4l8",
        "outputId": "663dc2b6-8f93-4488-de27-ba160124fa8a"
      },
      "source": [
        "roc.iloc[(roc.tf).abs().argsort()[:1]]"
      ],
      "execution_count": 71,
      "outputs": [
        {
          "output_type": "execute_result",
          "data": {
            "text/html": [
              "<div>\n",
              "<style scoped>\n",
              "    .dataframe tbody tr th:only-of-type {\n",
              "        vertical-align: middle;\n",
              "    }\n",
              "\n",
              "    .dataframe tbody tr th {\n",
              "        vertical-align: top;\n",
              "    }\n",
              "\n",
              "    .dataframe thead th {\n",
              "        text-align: right;\n",
              "    }\n",
              "</style>\n",
              "<table border=\"1\" class=\"dataframe\">\n",
              "  <thead>\n",
              "    <tr style=\"text-align: right;\">\n",
              "      <th></th>\n",
              "      <th>fpr</th>\n",
              "      <th>tpr</th>\n",
              "      <th>1-fpr</th>\n",
              "      <th>tf</th>\n",
              "      <th>Thresholds</th>\n",
              "    </tr>\n",
              "  </thead>\n",
              "  <tbody>\n",
              "    <tr>\n",
              "      <th>60</th>\n",
              "      <td>0.295082</td>\n",
              "      <td>0.698473</td>\n",
              "      <td>0.704918</td>\n",
              "      <td>-0.006445</td>\n",
              "      <td>0.733039</td>\n",
              "    </tr>\n",
              "  </tbody>\n",
              "</table>\n",
              "</div>"
            ],
            "text/plain": [
              "         fpr       tpr     1-fpr        tf  Thresholds\n",
              "60  0.295082  0.698473  0.704918 -0.006445    0.733039"
            ]
          },
          "metadata": {},
          "execution_count": 71
        }
      ]
    },
    {
      "cell_type": "code",
      "metadata": {
        "colab": {
          "base_uri": "https://localhost:8080/",
          "height": 371
        },
        "id": "0zXVoVQwV4l9",
        "outputId": "441ca8ae-8219-4c26-8a87-767944703854"
      },
      "source": [
        "fig,ax=plt.subplots()\n",
        "plt.plot(roc[\"tpr\"])\n",
        "plt.plot(roc[\"1-fpr\"],color=\"red\")\n",
        "plt.xlabel(\"1-False Positive Rate(Specificity)\")\n",
        "plt.ylabel(\"True Positive Rate (Sensitivity )\")\n",
        "plt.title(\"Receiver Operating Characteristic\")"
      ],
      "execution_count": 72,
      "outputs": [
        {
          "output_type": "execute_result",
          "data": {
            "text/plain": [
              "Text(0.5, 1.0, 'Receiver Operating Characteristic')"
            ]
          },
          "metadata": {},
          "execution_count": 72
        },
        {
          "output_type": "display_data",
          "data": {
            "image/png": "[encoded data removed]",
            "text/plain": [
              "<Figure size 432x360 with 1 Axes>"
            ]
          },
          "metadata": {}
        }
      ]
    },
    {
      "cell_type": "markdown",
      "metadata": {
        "id": "p_AslSY1V4l9"
      },
      "source": [
        "<font color=\"purple\">**From graph at the intercection ponit of sensitity and specificity, we get threshold value which shows for this threshold value we get nearly simillar Sensitivty and Specificity value.**"
      ]
    },
    {
      "cell_type": "code",
      "metadata": {
        "colab": {
          "base_uri": "https://localhost:8080/"
        },
        "id": "2wgeUnWKV4l9",
        "outputId": "c2f59746-9fa8-42f1-b8d2-a1f6bf397f06"
      },
      "source": [
        "print(features)\n",
        "len(features)"
      ],
      "execution_count": 73,
      "outputs": [
        {
          "output_type": "stream",
          "name": "stdout",
          "text": [
            "['Dependents_2', 'Gender_Male', 'LoanAmount', 'CoapplicantIncome', 'Credit_History', 'Married_Yes', 'Education_Not Graduate', 'Property_Area_Urban', 'Self_Employed_Yes', 'ApplicantIncome', 'Loan_Amount_Term', 'Dependents_1', 'Dependents_3+', 'Property_Area_Semiurban']\n"
          ]
        },
        {
          "output_type": "execute_result",
          "data": {
            "text/plain": [
              "14"
            ]
          },
          "metadata": {},
          "execution_count": 73
        }
      ]
    },
    {
      "cell_type": "code",
      "metadata": {
        "scrolled": true,
        "colab": {
          "base_uri": "https://localhost:8080/"
        },
        "id": "KxukASCyV4l-",
        "outputId": "9b9401b7-c1f6-43ef-b568-5249fbb9275c"
      },
      "source": [
        "import statsmodels.api as sm\n",
        "x=new_data[['Property_Area_Semiurban', 'Dependents_1', 'LoanAmount', 'Self_Employed_Yes', 'Married_Yes', 'CoapplicantIncome', 'Credit_History', 'Loan_Amount_Term', 'Gender_Male', 'Dependents_2', 'Property_Area_Urban', 'Education_Not Graduate', 'Dependents_3+', 'ApplicantIncome']]\n",
        "y=new_data[\"Loan_Status\"]\n",
        "from sklearn.model_selection import train_test_split\n",
        "x_train, x_test, y_train, y_test = train_test_split(x,y,random_state=6 ,test_size =0.20)\n",
        "x1=sm.add_constant(x_train)\n",
        "logit_model=sm.Logit(y_train,x1)\n",
        "result=logit_model.fit()\n",
        "print(result.summary2())"
      ],
      "execution_count": 74,
      "outputs": [
        {
          "output_type": "stream",
          "name": "stdout",
          "text": [
            "Optimization terminated successfully.\n",
            "         Current function value: 0.457317\n",
            "         Iterations 6\n",
            "                            Results: Logit\n",
            "=======================================================================\n",
            "Model:                Logit              Pseudo R-squared:   0.268     \n",
            "Dependent Variable:   Loan_Status        AIC:                381.2193  \n",
            "Date:                 2021-10-08 19:20   BIC:                440.4789  \n",
            "No. Observations:     384                Log-Likelihood:     -175.61   \n",
            "Df Model:             14                 LL-Null:            -240.05   \n",
            "Df Residuals:         369                LLR p-value:        1.1305e-20\n",
            "Converged:            1.0000             Scale:              1.0000    \n",
            "No. Iterations:       6.0000                                           \n",
            "-----------------------------------------------------------------------\n",
            "                         Coef.  Std.Err.    z    P>|z|   [0.025  0.975]\n",
            "-----------------------------------------------------------------------\n",
            "const                   -2.8918   1.0736 -2.6935 0.0071 -4.9962 -0.7875\n",
            "Property_Area_Semiurban  0.9885   0.3412  2.8970 0.0038  0.3197  1.6572\n",
            "Dependents_1            -0.6996   0.3902 -1.7929 0.0730 -1.4644  0.0652\n",
            "LoanAmount              -0.0022   0.0020 -1.1322 0.2575 -0.0061  0.0016\n",
            "Self_Employed_Yes       -0.0729   0.3926 -0.1858 0.8526 -0.8424  0.6965\n",
            "Married_Yes              0.6595   0.3335  1.9775 0.0480  0.0058  1.3132\n",
            "CoapplicantIncome       -0.0001   0.0000 -1.2920 0.1964 -0.0001  0.0000\n",
            "Credit_History           3.7863   0.5161  7.3367 0.0000  2.7748  4.7978\n",
            "Loan_Amount_Term        -0.0004   0.0023 -0.1871 0.8516 -0.0048  0.0040\n",
            "Gender_Male              0.3765   0.3713  1.0138 0.3107 -0.3513  1.1043\n",
            "Dependents_2             0.1620   0.4208  0.3850 0.7002 -0.6628  0.9869\n",
            "Property_Area_Urban      0.0864   0.3293  0.2624 0.7930 -0.5591  0.7319\n",
            "Education_Not Graduate  -0.3697   0.3398 -1.0881 0.2766 -1.0356  0.2962\n",
            "Dependents_3+            0.2654   0.5918  0.4485 0.6538 -0.8944  1.4253\n",
            "ApplicantIncome          0.0000   0.0000  0.3864 0.6992 -0.0000  0.0001\n",
            "=======================================================================\n",
            "\n"
          ]
        }
      ]
    },
    {
      "cell_type": "markdown",
      "metadata": {
        "id": "A7X4DjB6V4l-"
      },
      "source": [
        "#### <font color=\"purple\">Odds ratio value for Credit_History variable is \n",
        "\n",
        "=exp(coef. fo Credit_History)\n",
        "\n",
        "=exp( 3.7863) = 44.09295\n",
        "\n",
        "Thus we can conclude that the estimated odd of getting Loan status yes for customer who have credit history yes are 44 times greater than than the estimated odds of getting loan status yes for customer who do not have credit history( crdit_history=No)\n"
      ]
    },
    {
      "cell_type": "markdown",
      "metadata": {
        "id": "Vt3THvI7V4l-"
      },
      "source": [
        "### <font color='red'> 2)K-Nearest Neighbors classifier "
      ]
    },
    {
      "cell_type": "code",
      "metadata": {
        "id": "j5yqs9vLV4l-"
      },
      "source": [
        "features=list(set(columns_list)-set([\"Loan_Status\"]))\n",
        "#Storing the output values in y\n",
        "y=new_data[\"Loan_Status\"].values\n",
        "#Storing the values from inpt features \n",
        "x=new_data[features].values"
      ],
      "execution_count": 75,
      "outputs": []
    },
    {
      "cell_type": "code",
      "metadata": {
        "id": "0Ya5e3eFV4l_"
      },
      "source": [
        "from sklearn.model_selection import train_test_split\n",
        "x_train, x_test, y_train, y_test = train_test_split(x,y,random_state=25 ,test_size =0.20)"
      ],
      "execution_count": 76,
      "outputs": []
    },
    {
      "cell_type": "markdown",
      "metadata": {
        "id": "XRlgyFr0V4l_"
      },
      "source": [
        "Importing the library of KNN"
      ]
    },
    {
      "cell_type": "code",
      "metadata": {
        "id": "BpLf0sflV4l_"
      },
      "source": [
        "from sklearn.neighbors import KNeighborsClassifier"
      ],
      "execution_count": 77,
      "outputs": []
    },
    {
      "cell_type": "code",
      "metadata": {
        "id": "887qVHwwV4l_"
      },
      "source": [
        "#Storing the  KNN classifier\n",
        "KNN_classifier= KNeighborsClassifier(n_neighbors=5)   # By defalult n_neighbors=5"
      ],
      "execution_count": 78,
      "outputs": []
    },
    {
      "cell_type": "code",
      "metadata": {
        "colab": {
          "base_uri": "https://localhost:8080/"
        },
        "id": "vlxmw0R0V4l_",
        "outputId": "80c09fa7-67bf-4c5e-c4d8-30fdd961aa30"
      },
      "source": [
        "#Fitting the model\n",
        "KNN_classifier.fit(x_train,y_train)"
      ],
      "execution_count": 79,
      "outputs": [
        {
          "output_type": "execute_result",
          "data": {
            "text/plain": [
              "KNeighborsClassifier(algorithm='auto', leaf_size=30, metric='minkowski',\n",
              "                     metric_params=None, n_jobs=None, n_neighbors=5, p=2,\n",
              "                     weights='uniform')"
            ]
          },
          "metadata": {},
          "execution_count": 79
        }
      ]
    },
    {
      "cell_type": "code",
      "metadata": {
        "id": "ax4JCaLFV4mA"
      },
      "source": [
        "#Predicting the test values with model\n",
        "prediction=KNN_classifier.predict(x_test)"
      ],
      "execution_count": 80,
      "outputs": []
    },
    {
      "cell_type": "code",
      "metadata": {
        "id": "T4lfipTbV4mA"
      },
      "source": [
        "#Performing metric check\n",
        "from sklearn.metrics import confusion_matrix\n",
        "Confusion_Matrix2=confusion_matrix(y_test,prediction)  # This is confusion matrix for train data set\n"
      ],
      "execution_count": 81,
      "outputs": []
    },
    {
      "cell_type": "code",
      "metadata": {
        "colab": {
          "base_uri": "https://localhost:8080/",
          "height": 371
        },
        "id": "ClSjZTF0V4mA",
        "outputId": "3776a807-c7ca-44ca-db12-ea0983f45c69"
      },
      "source": [
        "sns.set(rc = {'figure.figsize':(6,5)})\n",
        "sns.heatmap(Confusion_Matrix2, annot=True, fmt='d',cbar=False,cmap='YlGnBu')\n",
        "plt.xlabel('Predicted Values')\n",
        "plt.ylabel('Actual Values')\n",
        "plt.title('Actual vs. Predicted Confusion Matrix')"
      ],
      "execution_count": 82,
      "outputs": [
        {
          "output_type": "execute_result",
          "data": {
            "text/plain": [
              "Text(0.5, 1.0, 'Actual vs. Predicted Confusion Matrix')"
            ]
          },
          "metadata": {},
          "execution_count": 82
        },
        {
          "output_type": "display_data",
          "data": {
            "image/png": "[encoded data removed]",
            "text/plain": [
              "<Figure size 432x360 with 1 Axes>"
            ]
          },
          "metadata": {}
        }
      ]
    },
    {
      "cell_type": "code",
      "metadata": {
        "colab": {
          "base_uri": "https://localhost:8080/"
        },
        "id": "ljAG7B7VV4mB",
        "outputId": "03d1bbe2-3459-4f7c-9d3a-c52f4fb3f2b2"
      },
      "source": [
        "tn,fp,fn,tp=confusion_matrix(y_test, prediction).ravel()\n",
        "print(\"True Negative : \",tn)\n",
        "print(\"False Positive : \",fp)\n",
        "print(\"False Negative : \",fn)\n",
        "print(\"True Positive : \",tp)"
      ],
      "execution_count": 83,
      "outputs": [
        {
          "output_type": "stream",
          "name": "stdout",
          "text": [
            "True Negative :  7\n",
            "False Positive :  28\n",
            "False Negative :  1\n",
            "True Positive :  60\n"
          ]
        }
      ]
    },
    {
      "cell_type": "code",
      "metadata": {
        "colab": {
          "base_uri": "https://localhost:8080/"
        },
        "id": "qtE3AgO-V4mB",
        "outputId": "b29b5097-0d87-4813-83f1-0b27659b842b"
      },
      "source": [
        "#Performing the accuracy\n",
        "from sklearn.metrics import accuracy_score\n",
        "KNN_accuracy_score=accuracy_score(y_test,prediction)\n",
        "print(KNN_accuracy_score)"
      ],
      "execution_count": 84,
      "outputs": [
        {
          "output_type": "stream",
          "name": "stdout",
          "text": [
            "0.6979166666666666\n"
          ]
        }
      ]
    },
    {
      "cell_type": "code",
      "metadata": {
        "colab": {
          "base_uri": "https://localhost:8080/"
        },
        "id": "-HlWdyXwV4mB",
        "outputId": "15fc958b-12f7-4166-e690-94010f14e82b"
      },
      "source": [
        "print(\"Misclassified samples: %d\" %(y_test != prediction).sum())"
      ],
      "execution_count": 85,
      "outputs": [
        {
          "output_type": "stream",
          "name": "stdout",
          "text": [
            "Misclassified samples: 29\n"
          ]
        }
      ]
    },
    {
      "cell_type": "code",
      "metadata": {
        "colab": {
          "base_uri": "https://localhost:8080/"
        },
        "id": "sqy9rthSV4mC",
        "outputId": "5e6bec28-9fd7-4592-c8b0-0ca982b58259"
      },
      "source": [
        "from sklearn.metrics import classification_report\n",
        "print(classification_report(y_test,prediction))"
      ],
      "execution_count": 86,
      "outputs": [
        {
          "output_type": "stream",
          "name": "stdout",
          "text": [
            "              precision    recall  f1-score   support\n",
            "\n",
            "           0       0.88      0.20      0.33        35\n",
            "           1       0.68      0.98      0.81        61\n",
            "\n",
            "    accuracy                           0.70        96\n",
            "   macro avg       0.78      0.59      0.57        96\n",
            "weighted avg       0.75      0.70      0.63        96\n",
            "\n"
          ]
        }
      ]
    },
    {
      "cell_type": "markdown",
      "metadata": {
        "id": "q7gLc6lZV4mC"
      },
      "source": [
        "<font color='blue'>**Effect of K values on classifier**"
      ]
    },
    {
      "cell_type": "code",
      "metadata": {
        "id": "eq5LfB5DV4mC"
      },
      "source": [
        "Misclassified_sample=[]\n",
        "k_value=[]\n",
        "#Calculating error for k values between 1 and 20\n",
        "for i in range(1,20):\n",
        "    knn=KNeighborsClassifier(n_neighbors=i)\n",
        "    knn.fit(x_train,y_train)\n",
        "    pred_i=knn.predict(x_test)\n",
        "    Misclassified_sample.append((y_test != pred_i).sum())\n",
        "    k_value.append(i)"
      ],
      "execution_count": 87,
      "outputs": []
    },
    {
      "cell_type": "code",
      "metadata": {
        "id": "Lj-dJXptV4mC"
      },
      "source": [
        "D={\"K\":k_value,\"Misclassified_sample\":Misclassified_sample}\n",
        "table=pd.DataFrame(D) \n",
        "table.set_index(\"K\")"
      ],
      "execution_count": null,
      "outputs": []
    },
    {
      "cell_type": "markdown",
      "metadata": {
        "id": "IzZ3zffUV4mD"
      },
      "source": [
        "<font color=\"purple\">Parameter value of K= 5 has less misclassified_samples."
      ]
    },
    {
      "cell_type": "markdown",
      "metadata": {
        "id": "zNgZCN6wV4mD"
      },
      "source": [
        "### <font color='red'>3)Decision Tree classifier"
      ]
    },
    {
      "cell_type": "code",
      "metadata": {
        "id": "yD9RmAkQV4mD"
      },
      "source": [
        "from sklearn.tree import DecisionTreeClassifier"
      ],
      "execution_count": 89,
      "outputs": []
    },
    {
      "cell_type": "code",
      "metadata": {
        "id": "PlsyiTYPV4mD"
      },
      "source": [
        "# instantiate the classifier\n",
        "dtclf = DecisionTreeClassifier(criterion='entropy')\n",
        "#clf = DecisionTreeClassifier(random_state=0)"
      ],
      "execution_count": 90,
      "outputs": []
    },
    {
      "cell_type": "code",
      "metadata": {
        "id": "QBDfowtqV4mE"
      },
      "source": [
        "from sklearn.model_selection import train_test_split\n",
        "x_train, x_test, y_train, y_test = train_test_split(x,y,random_state=1000 ,test_size =0.25)"
      ],
      "execution_count": 91,
      "outputs": []
    },
    {
      "cell_type": "code",
      "metadata": {
        "colab": {
          "base_uri": "https://localhost:8080/"
        },
        "id": "xlZ4cuxGV4mE",
        "outputId": "7b576c95-2fe4-4724-f9cb-9c0757a639d5"
      },
      "source": [
        "dtclf.fit(x_train, y_train)"
      ],
      "execution_count": 92,
      "outputs": [
        {
          "output_type": "execute_result",
          "data": {
            "text/plain": [
              "DecisionTreeClassifier(ccp_alpha=0.0, class_weight=None, criterion='entropy',\n",
              "                       max_depth=None, max_features=None, max_leaf_nodes=None,\n",
              "                       min_impurity_decrease=0.0, min_impurity_split=None,\n",
              "                       min_samples_leaf=1, min_samples_split=2,\n",
              "                       min_weight_fraction_leaf=0.0, presort='deprecated',\n",
              "                       random_state=None, splitter='best')"
            ]
          },
          "metadata": {},
          "execution_count": 92
        }
      ]
    },
    {
      "cell_type": "code",
      "metadata": {
        "colab": {
          "base_uri": "https://localhost:8080/"
        },
        "id": "uRm5bFmdV4mE",
        "outputId": "adc43430-4bf5-4b33-d828-64cd265d2a10"
      },
      "source": [
        "y_pred3 = dtclf.predict(x_test)\n",
        "y_pred3"
      ],
      "execution_count": 93,
      "outputs": [
        {
          "output_type": "execute_result",
          "data": {
            "text/plain": [
              "array([1, 0, 1, 1, 0, 1, 0, 0, 0, 0, 1, 0, 1, 1, 1, 1, 1, 1, 1, 1, 1, 0,\n",
              "       1, 1, 1, 1, 1, 0, 1, 1, 0, 0, 0, 1, 0, 1, 0, 1, 1, 0, 1, 0, 1, 1,\n",
              "       1, 1, 1, 0, 1, 1, 0, 1, 0, 1, 1, 1, 0, 1, 0, 1, 1, 0, 1, 1, 0, 1,\n",
              "       0, 1, 1, 1, 0, 1, 1, 1, 1, 1, 0, 1, 0, 1, 0, 1, 1, 1, 0, 1, 1, 0,\n",
              "       1, 0, 0, 1, 1, 1, 1, 1, 1, 1, 1, 1, 1, 0, 1, 1, 0, 1, 0, 1, 1, 0,\n",
              "       0, 0, 1, 1, 1, 0, 1, 1, 1, 1])"
            ]
          },
          "metadata": {},
          "execution_count": 93
        }
      ]
    },
    {
      "cell_type": "code",
      "metadata": {
        "id": "5Q7keaioV4mE"
      },
      "source": [
        "#Performing metric check\n",
        "from sklearn.metrics import confusion_matrix\n",
        "Confusion_Matrix3=confusion_matrix(y_test,y_pred3)  # This is confusion matrix for test data set\n"
      ],
      "execution_count": 94,
      "outputs": []
    },
    {
      "cell_type": "code",
      "metadata": {
        "colab": {
          "base_uri": "https://localhost:8080/",
          "height": 371
        },
        "id": "XGQJAQhUV4mF",
        "outputId": "368fa4e1-75f4-4570-9dc9-a59f9e665067"
      },
      "source": [
        "sns.set(rc = {'figure.figsize':(6,5)})\n",
        "sns.heatmap(Confusion_Matrix3, annot=True, fmt='d',cbar=False,cmap='YlGnBu')\n",
        "plt.xlabel('Predicted Values')\n",
        "plt.ylabel('Actual Values')\n",
        "plt.title('Actual vs. Predicted Confusion Matrix')"
      ],
      "execution_count": 95,
      "outputs": [
        {
          "output_type": "execute_result",
          "data": {
            "text/plain": [
              "Text(0.5, 1.0, 'Actual vs. Predicted Confusion Matrix')"
            ]
          },
          "metadata": {},
          "execution_count": 95
        },
        {
          "output_type": "display_data",
          "data": {
            "image/png": "[encoded data removed]",
            "text/plain": [
              "<Figure size 432x360 with 1 Axes>"
            ]
          },
          "metadata": {}
        }
      ]
    },
    {
      "cell_type": "code",
      "metadata": {
        "colab": {
          "base_uri": "https://localhost:8080/"
        },
        "id": "nofwFtDtV4mF",
        "outputId": "b32d373d-3b6c-4f2f-e8aa-3c01c74594d0"
      },
      "source": [
        "tn,fp,fn,tp=confusion_matrix(y_test, y_pred3).ravel()\n",
        "print(\"True Negative : \",tn)\n",
        "print(\"False Positive : \",fp)\n",
        "print(\"False Negative : \",fn)\n",
        "print(\"True Positive : \",tp)"
      ],
      "execution_count": 96,
      "outputs": [
        {
          "output_type": "stream",
          "name": "stdout",
          "text": [
            "True Negative :  20\n",
            "False Positive :  13\n",
            "False Negative :  19\n",
            "True Positive :  68\n"
          ]
        }
      ]
    },
    {
      "cell_type": "code",
      "metadata": {
        "colab": {
          "base_uri": "https://localhost:8080/"
        },
        "id": "0VXNmqQOV4mG",
        "outputId": "c82bd099-6487-498a-b4eb-bd5063bad123"
      },
      "source": [
        "print(\"Misclassified samples: %d\" %(y_test != y_pred3).sum())"
      ],
      "execution_count": 97,
      "outputs": [
        {
          "output_type": "stream",
          "name": "stdout",
          "text": [
            "Misclassified samples: 32\n"
          ]
        }
      ]
    },
    {
      "cell_type": "code",
      "metadata": {
        "colab": {
          "base_uri": "https://localhost:8080/"
        },
        "id": "NyKsZwKyV4mG",
        "outputId": "5742209b-9e58-48e8-a61e-b5f80e659be0"
      },
      "source": [
        "#Performing the accuracy\n",
        "from sklearn.metrics import accuracy_score\n",
        "DT_accuracy_score=accuracy_score(y_test,y_pred3)\n",
        "print(DT_accuracy_score)"
      ],
      "execution_count": 98,
      "outputs": [
        {
          "output_type": "stream",
          "name": "stdout",
          "text": [
            "0.7333333333333333\n"
          ]
        }
      ]
    },
    {
      "cell_type": "code",
      "metadata": {
        "scrolled": false,
        "colab": {
          "base_uri": "https://localhost:8080/"
        },
        "id": "6PbOGWq2V4mG",
        "outputId": "88353492-cbc3-47eb-a24c-8a166d16d817"
      },
      "source": [
        "from sklearn.metrics import classification_report\n",
        "print(classification_report(y_test,y_pred3))"
      ],
      "execution_count": 99,
      "outputs": [
        {
          "output_type": "stream",
          "name": "stdout",
          "text": [
            "              precision    recall  f1-score   support\n",
            "\n",
            "           0       0.51      0.61      0.56        33\n",
            "           1       0.84      0.78      0.81        87\n",
            "\n",
            "    accuracy                           0.73       120\n",
            "   macro avg       0.68      0.69      0.68       120\n",
            "weighted avg       0.75      0.73      0.74       120\n",
            "\n"
          ]
        }
      ]
    },
    {
      "cell_type": "markdown",
      "metadata": {
        "id": "YSU6Nv9fV4mG"
      },
      "source": [
        "### <font color='red'>4)Random Forest Classifier"
      ]
    },
    {
      "cell_type": "code",
      "metadata": {
        "colab": {
          "base_uri": "https://localhost:8080/"
        },
        "id": "sl9e-UMPV4mH",
        "outputId": "ebbb58f8-a92b-4f0d-915e-f75151698818"
      },
      "source": [
        "#Storing the columns names\n",
        "columns_list=list(new_data.columns)\n",
        "print(columns_list)"
      ],
      "execution_count": 100,
      "outputs": [
        {
          "output_type": "stream",
          "name": "stdout",
          "text": [
            "['ApplicantIncome', 'CoapplicantIncome', 'LoanAmount', 'Loan_Amount_Term', 'Credit_History', 'Loan_Status', 'Gender_Male', 'Married_Yes', 'Dependents_1', 'Dependents_2', 'Dependents_3+', 'Education_Not Graduate', 'Self_Employed_Yes', 'Property_Area_Semiurban', 'Property_Area_Urban']\n"
          ]
        }
      ]
    },
    {
      "cell_type": "code",
      "metadata": {
        "colab": {
          "base_uri": "https://localhost:8080/"
        },
        "id": "FV2Lk8-EV4mH",
        "outputId": "07017181-11ae-4b9c-c56e-6c15581c89ee"
      },
      "source": [
        "#Seperating the input columns from data\n",
        "features=list(set(columns_list)-set([\"Loan_Status\"]))\n",
        "print(features)"
      ],
      "execution_count": 101,
      "outputs": [
        {
          "output_type": "stream",
          "name": "stdout",
          "text": [
            "['Dependents_2', 'Gender_Male', 'LoanAmount', 'CoapplicantIncome', 'Credit_History', 'Married_Yes', 'Education_Not Graduate', 'Property_Area_Urban', 'Self_Employed_Yes', 'ApplicantIncome', 'Loan_Amount_Term', 'Dependents_1', 'Dependents_3+', 'Property_Area_Semiurban']\n"
          ]
        }
      ]
    },
    {
      "cell_type": "code",
      "metadata": {
        "scrolled": true,
        "colab": {
          "base_uri": "https://localhost:8080/"
        },
        "id": "ljxlYeyAV4mH",
        "outputId": "d21cf608-73b0-4236-974b-6cfa505862b5"
      },
      "source": [
        "#Storing the output values in y\n",
        "y=new_data[\"Loan_Status\"].values\n",
        "print(y)"
      ],
      "execution_count": 102,
      "outputs": [
        {
          "output_type": "stream",
          "name": "stdout",
          "text": [
            "[0 1 1 1 1 1 0 1 0 1 1 0 1 1 0 0 0 1 0 1 1 1 0 0 0 1 0 1 1 1 0 1 1 1 1 0 1\n",
            " 1 1 0 0 0 1 1 0 1 1 1 1 0 0 0 0 1 1 0 1 1 1 1 0 0 0 0 1 0 1 1 1 1 1 1 1 1\n",
            " 1 1 1 1 1 1 1 1 1 1 0 1 1 1 1 0 1 1 1 1 1 0 1 1 1 1 0 0 1 0 0 0 1 1 1 1 1\n",
            " 1 1 0 1 0 1 0 0 1 1 1 1 1 0 0 1 1 0 1 0 1 0 1 0 1 1 0 1 0 0 1 0 1 1 0 1 1\n",
            " 0 0 1 1 0 1 0 1 1 1 1 1 1 1 1 0 0 0 1 1 1 1 0 1 0 1 1 1 0 1 1 1 1 1 1 1 1\n",
            " 1 0 1 1 1 0 1 1 1 1 0 0 1 1 0 1 0 0 0 1 0 1 1 1 1 1 1 1 1 1 1 1 1 1 1 1 0\n",
            " 1 1 1 1 0 1 1 1 1 0 1 1 1 1 0 0 0 1 1 1 1 0 0 1 1 1 1 1 0 1 1 1 0 1 1 0 1\n",
            " 1 1 1 1 0 0 1 1 1 1 1 1 0 1 0 1 1 0 0 1 0 1 1 1 0 0 1 0 1 1 1 0 1 1 0 1 1\n",
            " 1 1 0 1 1 1 1 1 1 1 0 1 1 0 0 0 1 1 0 1 1 1 0 0 0 0 1 0 1 0 0 1 1 1 1 1 1\n",
            " 0 1 1 1 1 0 1 1 1 0 1 1 1 1 1 1 1 0 0 0 1 1 1 1 0 1 0 1 1 0 1 0 0 1 0 1 1\n",
            " 1 1 1 1 1 1 1 1 1 0 0 1 0 1 1 0 1 1 1 0 1 1 1 1 1 1 1 0 1 1 0 0 1 1 0 0 1\n",
            " 1 1 1 1 1 1 1 1 1 0 1 1 1 0 1 1 0 1 1 0 1 0 1 1 0 0 1 1 1 1 1 1 1 1 0 1 0\n",
            " 0 0 1 1 0 0 1 1 1 1 0 1 0 0 1 1 0 1 0 1 1 1 0 1 1 1 1 1 1 1 1 1 1 1 1 0]\n"
          ]
        }
      ]
    },
    {
      "cell_type": "code",
      "metadata": {
        "colab": {
          "base_uri": "https://localhost:8080/"
        },
        "id": "pC1Su3-xV4mI",
        "outputId": "02ed159b-ee8b-41c5-ee41-523283b65b43"
      },
      "source": [
        "#Storing the values from input features \n",
        "x=new_data[features].values\n",
        "print(x)"
      ],
      "execution_count": 103,
      "outputs": [
        {
          "output_type": "stream",
          "name": "stdout",
          "text": [
            "[[  0.   1. 128. ...   1.   0.   0.]\n",
            " [  0.   1.  66. ...   0.   0.   0.]\n",
            " [  0.   1. 120. ...   0.   0.   0.]\n",
            " ...\n",
            " [  0.   1. 253. ...   1.   0.   0.]\n",
            " [  1.   1. 187. ...   0.   0.   0.]\n",
            " [  0.   0. 133. ...   0.   0.   1.]]\n"
          ]
        }
      ]
    },
    {
      "cell_type": "code",
      "metadata": {
        "id": "6KkfVv9LV4mI"
      },
      "source": [
        "from sklearn.model_selection import train_test_split\n",
        "x_train, x_test, y_train, y_test = train_test_split(x,y,random_state=6 ,test_size =0.20)"
      ],
      "execution_count": 104,
      "outputs": []
    },
    {
      "cell_type": "code",
      "metadata": {
        "id": "wxi84JGjV4mI"
      },
      "source": [
        "from sklearn.ensemble import RandomForestClassifier"
      ],
      "execution_count": 105,
      "outputs": []
    },
    {
      "cell_type": "code",
      "metadata": {
        "id": "q4-l7bCEV4mI"
      },
      "source": [
        "# instantiate the RF classifier\n",
        "# Set the random state for reproducibility\n",
        "RFclf = RandomForestClassifier(random_state=42)"
      ],
      "execution_count": 106,
      "outputs": []
    },
    {
      "cell_type": "code",
      "metadata": {
        "colab": {
          "base_uri": "https://localhost:8080/"
        },
        "id": "UCFc_zUEV4mJ",
        "outputId": "f904e85f-031c-444f-b29f-70fb1f4f6846"
      },
      "source": [
        "# train the algorithm utilizing the training and target class\n",
        "RFclf.fit(x_train, y_train)"
      ],
      "execution_count": 107,
      "outputs": [
        {
          "output_type": "execute_result",
          "data": {
            "text/plain": [
              "RandomForestClassifier(bootstrap=True, ccp_alpha=0.0, class_weight=None,\n",
              "                       criterion='gini', max_depth=None, max_features='auto',\n",
              "                       max_leaf_nodes=None, max_samples=None,\n",
              "                       min_impurity_decrease=0.0, min_impurity_split=None,\n",
              "                       min_samples_leaf=1, min_samples_split=2,\n",
              "                       min_weight_fraction_leaf=0.0, n_estimators=100,\n",
              "                       n_jobs=None, oob_score=False, random_state=42, verbose=0,\n",
              "                       warm_start=False)"
            ]
          },
          "metadata": {},
          "execution_count": 107
        }
      ]
    },
    {
      "cell_type": "code",
      "metadata": {
        "id": "KN01llt6V4mJ"
      },
      "source": [
        "# predict the test set\n",
        "y_pred4 = RFclf.predict(x_test)"
      ],
      "execution_count": 108,
      "outputs": []
    },
    {
      "cell_type": "code",
      "metadata": {
        "colab": {
          "base_uri": "https://localhost:8080/"
        },
        "id": "nZUOyt5LV4mJ",
        "outputId": "dd52899f-98c3-4958-a89b-80b8c5b95519"
      },
      "source": [
        "# Confusion Matrix\n",
        "confusion_matrix4 = confusion_matrix(y_test, y_pred4)\n",
        "print(confusion_matrix4)"
      ],
      "execution_count": 109,
      "outputs": [
        {
          "output_type": "stream",
          "name": "stdout",
          "text": [
            "[[15 11]\n",
            " [ 8 62]]\n"
          ]
        }
      ]
    },
    {
      "cell_type": "code",
      "metadata": {
        "colab": {
          "base_uri": "https://localhost:8080/",
          "height": 371
        },
        "id": "WKUO10MJV4mJ",
        "outputId": "ff858c2e-468f-47c6-8265-ee3f197a14ed"
      },
      "source": [
        "sns.set(rc = {'figure.figsize':(6,5)})\n",
        "sns.heatmap(confusion_matrix4, annot=True, fmt='d',cbar=False,cmap='YlGnBu')\n",
        "plt.xlabel('Predicted Values')\n",
        "plt.ylabel('Actual Values')\n",
        "plt.title('Actual vs. Predicted Confusion Matrix')"
      ],
      "execution_count": 110,
      "outputs": [
        {
          "output_type": "execute_result",
          "data": {
            "text/plain": [
              "Text(0.5, 1.0, 'Actual vs. Predicted Confusion Matrix')"
            ]
          },
          "metadata": {},
          "execution_count": 110
        },
        {
          "output_type": "display_data",
          "data": {
            "image/png": "[encoded data removed]",
            "text/plain": [
              "<Figure size 432x360 with 1 Axes>"
            ]
          },
          "metadata": {}
        }
      ]
    },
    {
      "cell_type": "code",
      "metadata": {
        "scrolled": true,
        "colab": {
          "base_uri": "https://localhost:8080/"
        },
        "id": "Wvo55FjfV4mK",
        "outputId": "05849a8b-92b4-4557-ff02-ae0d190b0e4c"
      },
      "source": [
        "tn,fp,fn,tp=confusion_matrix(y_test, y_pred4).ravel()\n",
        "print(\"True Negative : \",tn)\n",
        "print(\"False Positive : \",fp)\n",
        "print(\"False Negative : \",fn)\n",
        "print(\"True Positive : \",tp)"
      ],
      "execution_count": 111,
      "outputs": [
        {
          "output_type": "stream",
          "name": "stdout",
          "text": [
            "True Negative :  15\n",
            "False Positive :  11\n",
            "False Negative :  8\n",
            "True Positive :  62\n"
          ]
        }
      ]
    },
    {
      "cell_type": "code",
      "metadata": {
        "colab": {
          "base_uri": "https://localhost:8080/"
        },
        "id": "GYum3xOeV4mK",
        "outputId": "55d0f874-c342-4d40-de5a-65e5ff58757b"
      },
      "source": [
        "print(\"Misclassified samples: %d\" %(y_test != y_pred4).sum())"
      ],
      "execution_count": 112,
      "outputs": [
        {
          "output_type": "stream",
          "name": "stdout",
          "text": [
            "Misclassified samples: 19\n"
          ]
        }
      ]
    },
    {
      "cell_type": "code",
      "metadata": {
        "scrolled": true,
        "colab": {
          "base_uri": "https://localhost:8080/"
        },
        "id": "NYv-ciifV4mL",
        "outputId": "3f398a11-a93e-48e0-ca7a-5c5c21423004"
      },
      "source": [
        "from sklearn.metrics import classification_report\n",
        "print(classification_report(y_test,y_pred4))"
      ],
      "execution_count": 113,
      "outputs": [
        {
          "output_type": "stream",
          "name": "stdout",
          "text": [
            "              precision    recall  f1-score   support\n",
            "\n",
            "           0       0.65      0.58      0.61        26\n",
            "           1       0.85      0.89      0.87        70\n",
            "\n",
            "    accuracy                           0.80        96\n",
            "   macro avg       0.75      0.73      0.74        96\n",
            "weighted avg       0.80      0.80      0.80        96\n",
            "\n"
          ]
        }
      ]
    },
    {
      "cell_type": "code",
      "metadata": {
        "colab": {
          "base_uri": "https://localhost:8080/"
        },
        "id": "Pv1684ldV4mL",
        "outputId": "aedf7567-b739-4e60-933f-9b75f6ac6914"
      },
      "source": [
        "RF_accuracy_score=accuracy_score(y_test,y_pred4)\n",
        "print(RF_accuracy_score)"
      ],
      "execution_count": 114,
      "outputs": [
        {
          "output_type": "stream",
          "name": "stdout",
          "text": [
            "0.8020833333333334\n"
          ]
        }
      ]
    },
    {
      "cell_type": "markdown",
      "metadata": {
        "id": "fCV_f64DV4mL"
      },
      "source": [
        " ## <font color='purple'>Classifiers and Accuracy table"
      ]
    },
    {
      "cell_type": "code",
      "metadata": {
        "colab": {
          "base_uri": "https://localhost:8080/",
          "height": 170
        },
        "id": "zSddj4KZV4mM",
        "outputId": "6fef6e35-4fc5-4c23-e9af-83ba02ffbaa3"
      },
      "source": [
        "data = [ ['Random Forest ',RF_accuracy_score*100],\n",
        "         ['LogisticRegression ',logistic_accuracy*100],\n",
        "         ['Decision Tree ',DT_accuracy_score*100],\n",
        "         ['K-Nearest Neighbors ',KNN_accuracy_score*100]\n",
        "         ]\n",
        "df = pd.DataFrame(data,columns = ['Classifier','Accuracy'] )\n",
        "df"
      ],
      "execution_count": 115,
      "outputs": [
        {
          "output_type": "execute_result",
          "data": {
            "text/html": [
              "<div>\n",
              "<style scoped>\n",
              "    .dataframe tbody tr th:only-of-type {\n",
              "        vertical-align: middle;\n",
              "    }\n",
              "\n",
              "    .dataframe tbody tr th {\n",
              "        vertical-align: top;\n",
              "    }\n",
              "\n",
              "    .dataframe thead th {\n",
              "        text-align: right;\n",
              "    }\n",
              "</style>\n",
              "<table border=\"1\" class=\"dataframe\">\n",
              "  <thead>\n",
              "    <tr style=\"text-align: right;\">\n",
              "      <th></th>\n",
              "      <th>Classifier</th>\n",
              "      <th>Accuracy</th>\n",
              "    </tr>\n",
              "  </thead>\n",
              "  <tbody>\n",
              "    <tr>\n",
              "      <th>0</th>\n",
              "      <td>Random Forest</td>\n",
              "      <td>80.208333</td>\n",
              "    </tr>\n",
              "    <tr>\n",
              "      <th>1</th>\n",
              "      <td>LogisticRegression</td>\n",
              "      <td>83.333333</td>\n",
              "    </tr>\n",
              "    <tr>\n",
              "      <th>2</th>\n",
              "      <td>Decision Tree</td>\n",
              "      <td>73.333333</td>\n",
              "    </tr>\n",
              "    <tr>\n",
              "      <th>3</th>\n",
              "      <td>K-Nearest Neighbors</td>\n",
              "      <td>69.791667</td>\n",
              "    </tr>\n",
              "  </tbody>\n",
              "</table>\n",
              "</div>"
            ],
            "text/plain": [
              "             Classifier   Accuracy\n",
              "0        Random Forest   80.208333\n",
              "1   LogisticRegression   83.333333\n",
              "2        Decision Tree   73.333333\n",
              "3  K-Nearest Neighbors   69.791667"
            ]
          },
          "metadata": {},
          "execution_count": 115
        }
      ]
    },
    {
      "cell_type": "markdown",
      "metadata": {
        "id": "bPUsxCnnV4mM"
      },
      "source": [
        " Logistic Regression is the one which performed the best with test accuracy of 83.33%."
      ]
    },
    {
      "cell_type": "markdown",
      "metadata": {
        "id": "sr5FH0iPXc8D"
      },
      "source": [
        "## **Saving The Model**"
      ]
    },
    {
      "cell_type": "code",
      "metadata": {
        "id": "msc1XDpWXgRf"
      },
      "source": [
        "from sklearn.model_selection import train_test_split\n",
        "x_train, x_test, y_train, y_test = train_test_split(x,y,random_state=6 ,test_size =0.20)"
      ],
      "execution_count": 118,
      "outputs": []
    },
    {
      "cell_type": "code",
      "metadata": {
        "colab": {
          "base_uri": "https://localhost:8080/"
        },
        "id": "prAEwBddXgRg",
        "outputId": "0788b89a-3638-4455-816e-a568e6e55fce"
      },
      "source": [
        "from sklearn.linear_model import LogisticRegression\n",
        "# Instantiate the classifier\n",
        "log_model = LogisticRegression()\n",
        "# Train classifier\n",
        "log_model.fit(x_train, y_train)"
      ],
      "execution_count": 119,
      "outputs": [
        {
          "output_type": "execute_result",
          "data": {
            "text/plain": [
              "LogisticRegression(C=1.0, class_weight=None, dual=False, fit_intercept=True,\n",
              "                   intercept_scaling=1, l1_ratio=None, max_iter=100,\n",
              "                   multi_class='auto', n_jobs=None, penalty='l2',\n",
              "                   random_state=None, solver='lbfgs', tol=0.0001, verbose=0,\n",
              "                   warm_start=False)"
            ]
          },
          "metadata": {},
          "execution_count": 119
        }
      ]
    },
    {
      "cell_type": "code",
      "metadata": {
        "colab": {
          "base_uri": "https://localhost:8080/"
        },
        "id": "SQNfDv9kXgRh",
        "outputId": "2006e506-8ecc-4d14-881a-d640e0a8d670"
      },
      "source": [
        "from sklearn.metrics import accuracy_score\n",
        "y_pred = log_model.predict(x_test)\n",
        "logistic_accuracy=accuracy_score(y_test,y_pred)\n",
        "print(logistic_accuracy)"
      ],
      "execution_count": 120,
      "outputs": [
        {
          "output_type": "stream",
          "name": "stdout",
          "text": [
            "0.8333333333333334\n"
          ]
        }
      ]
    },
    {
      "cell_type": "code",
      "metadata": {
        "colab": {
          "base_uri": "https://localhost:8080/"
        },
        "id": "dU2WOndcV4mM",
        "outputId": "8806227e-de71-4740-e079-ffd423f6ed76"
      },
      "source": [
        "import pickle\n",
        " \n",
        "# Save the trained model as a pickle string.\n",
        "saved_model = pickle.dumps(log_model)\n",
        " \n",
        "# Load the pickled model\n",
        "dtc_from_pickle = pickle.loads(saved_model)\n",
        " \n",
        "# Use the loaded pickled model to make predictions\n",
        "dtc_from_pickle.predict(x_test)"
      ],
      "execution_count": 121,
      "outputs": [
        {
          "output_type": "execute_result",
          "data": {
            "text/plain": [
              "array([1, 1, 1, 0, 1, 1, 0, 1, 1, 0, 1, 1, 1, 0, 1, 1, 1, 1, 1, 1, 1, 1,\n",
              "       1, 1, 1, 1, 1, 1, 1, 1, 1, 1, 1, 1, 1, 1, 1, 0, 1, 1, 0, 1, 1, 0,\n",
              "       1, 1, 1, 1, 1, 1, 1, 1, 1, 1, 0, 1, 1, 0, 1, 1, 1, 1, 1, 1, 1, 0,\n",
              "       0, 1, 1, 1, 1, 1, 1, 1, 1, 1, 1, 1, 0, 1, 0, 0, 1, 1, 1, 1, 1, 1,\n",
              "       1, 1, 1, 1, 1, 1, 1, 1])"
            ]
          },
          "metadata": {},
          "execution_count": 121
        }
      ]
    },
    {
      "cell_type": "code",
      "metadata": {
        "id": "7Jp4fHZmV4mN"
      },
      "source": [
        ""
      ],
      "execution_count": 121,
      "outputs": []
    }
  ]
}